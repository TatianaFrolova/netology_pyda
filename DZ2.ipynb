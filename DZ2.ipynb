{
 "cells": [
  {
   "cell_type": "markdown",
   "metadata": {},
   "source": [
    "# Домашнее задание к лекции Управляющие конструкции и коллекции"
   ]
  },
  {
   "cell_type": "markdown",
   "metadata": {},
   "source": [
    "Задание 1\n",
    "Дан список с визитами по городам и странам. Напишите код, который возвращает отфильтрованный список geo_logs, содержащий только визиты из России. Считайте, что список geo_logs легко помещается в оперативной памяти.\n",
    "geo_logs = [\n",
    "[‘visit1’, [‘Москва’, ‘Россия’]],\n",
    "[‘visit2’, [‘Дели’, ‘Индия’]],\n",
    "[‘visit3’, [‘Владимир’, ‘Россия’]],\n",
    "[‘visit4’, [‘Лиссабон’, ‘Португалия’]],\n",
    "[‘visit5’, [‘Париж’, ‘Франция’]],\n",
    "[‘visit6’, [‘Лиссабон’, ‘Португалия’]],\n",
    "[‘visit7’, [‘Тула’, ‘Россия’]],\n",
    "[‘visit8’, [‘Тула’, ‘Россия’]],\n",
    "[‘visit9’, [‘Курск’, ‘Россия’]],\n",
    "[‘visit10’, [‘Архангельск’, ‘Россия’]],\n",
    "]"
   ]
  },
  {
   "cell_type": "code",
   "execution_count": 13,
   "metadata": {},
   "outputs": [
    {
     "name": "stdout",
     "output_type": "stream",
     "text": [
      "[['visit1', ['Москва', 'Россия']], ['visit3', ['Владимир', 'Россия']], ['visit7', ['Тула', 'Россия']], ['visit8', ['Тула', 'Россия']], ['visit9', ['Курск', 'Россия']], ['visit10', ['Архангельск', 'Россия']]]\n"
     ]
    }
   ],
   "source": [
    "geo_logs = [\n",
    "['visit1', ['Москва', 'Россия']],\n",
    "['visit2', ['Дели', 'Индия']],\n",
    "['visit3', ['Владимир', 'Россия']],\n",
    "['visit4', ['Лиссабон', 'Португалия']],\n",
    "['visit5', ['Париж', 'Франция']],\n",
    "['visit6', ['Лиссабон', 'Португалия']],\n",
    "['visit7', ['Тула', 'Россия']],\n",
    "['visit8', ['Тула', 'Россия']],\n",
    "['visit9', ['Курск', 'Россия']],\n",
    "['visit10', ['Архангельск', 'Россия']],\n",
    "];\n",
    "mylist = [];\n",
    "\n",
    "l = len(geo_logs);\n",
    "i = 0;\n",
    "while i<l:\n",
    "    if geo_logs[i][1][1] == 'Россия':\n",
    "        mylist.append(geo_logs[i])\n",
    "    i = i + 1;\n",
    "print(mylist);     "
   ]
  },
  {
   "cell_type": "markdown",
   "metadata": {},
   "source": [
    "Задание 2\n",
    "Выведите на экран все уникальные гео-ID из списка координат ids. Т. е. список вида [213, 15, 54, 119, 98, 35]\n",
    "ids = [[‘user1’, [213, 213, 213, 15, 213]], [‘user2’, [54, 54, 119, 119, 119]], [‘user3’, [213, 98, 98, 35]]]"
   ]
  },
  {
   "cell_type": "code",
   "execution_count": 34,
   "metadata": {},
   "outputs": [
    {
     "name": "stdout",
     "output_type": "stream",
     "text": [
      "[213, 15, 54, 119, 98, 35]\n"
     ]
    }
   ],
   "source": [
    "ids = [['user1', [213, 213, 213, 15, 213]], \n",
    "       ['user2', [54, 54, 119, 119, 119]], \n",
    "       ['user3', [213, 98, 98, 35]]]\n",
    "\n",
    "mylist = [];\n",
    "\n",
    "for i in range(int(len(ids))):\n",
    "    curr_line_len = len(ids[i][1]);\n",
    "    #print(curline);\n",
    "    for j in range(curr_line_len):\n",
    "        curr_elem = ids[i][1][j];\n",
    "        if curr_elem not in mylist:\n",
    "            mylist = mylist + [curr_elem];\n",
    "print(mylist);"
   ]
  },
  {
   "cell_type": "markdown",
   "metadata": {},
   "source": [
    "Задание 3\n",
    "Список поисковых запросов. Получить распределение количества слов в них. Т. е. поисковых запросов из одного слова 5%, из двух - 7%, из трех - 3% итд.\n",
    "queries = [\n",
    "‘смотреть сериалы онлайн’,\n",
    "‘новости спорта’,\n",
    "‘афиша кино’,\n",
    "‘курс доллара’,\n",
    "‘сериалы этим летом’,\n",
    "‘курс по питону’,\n",
    "‘сериалы про спорт’,\n",
    "]"
   ]
  },
  {
   "cell_type": "code",
   "execution_count": 64,
   "metadata": {},
   "outputs": [
    {
     "name": "stdout",
     "output_type": "stream",
     "text": [
      "[0, 3, 4]\n",
      "[0.0, 43.0, 57.0]\n"
     ]
    }
   ],
   "source": [
    "queries = [\n",
    "'смотреть сериалы онлайн',\n",
    "'новости спорта',\n",
    "'афиша кино',\n",
    "'курс доллара',\n",
    "'сериалы этим летом',\n",
    "'курс по питону',\n",
    "'сериалы про спорт',\n",
    "]\n",
    "\n",
    "# найду количество слов в каждом запросе\n",
    "mylist = [];\n",
    "allq = len(queries);\n",
    "for i in range(int(len(queries))):\n",
    "    mylist = mylist + [len(queries[i].split(' '))];\n",
    "#print(mylist)\n",
    "    \n",
    "# создам список размером равным количеству слов в максимально длинном запросе\n",
    "qlist = [0]*max(mylist);\n",
    "\n",
    "# считаю сколько элесментов с каждым количеством слов\n",
    "qa = 0;\n",
    "for i in range(int(len(mylist))):\n",
    "    qwords = mylist[i];\n",
    "    qlist[qwords-1] = qlist[qwords-1] + 1;\n",
    "print(qlist)\n",
    "\n",
    "for i in range(int(len(qlist))):\n",
    "    qlist[i] = round(qlist[i]/allq*100,0);\n",
    "print(qlist)"
   ]
  },
  {
   "cell_type": "markdown",
   "metadata": {},
   "source": [
    "# Дополнительное задание- по желанию"
   ]
  },
  {
   "cell_type": "markdown",
   "metadata": {},
   "source": [
    "Задание 4 (бонусное)\n",
    "Дан поток логов по количеству просмотренных страниц для каждого пользователя. Список отсортирован по ID пользователя. Вам необходимо написать алгоритм, который считает среднее значение просмотров на пользователя. Т. е. надо посчитать отношение суммы всех просмотров к количеству уникальных пользователей. Учтите, что весь список stream не помещается в оперативную память, т. е. его нужно обрабатывать поэлементно в цикле.\n",
    "stream = [\n",
    "'2018-01-01,user1,3',\n",
    "'2018-01-07,user1,4',\n",
    "'2018-03-29,user1,1',\n",
    "'2018-04-04,user1,13',\n",
    "'2018-01-05,user2,7',\n",
    "'2018-06-14,user3,4',\n",
    "'2018-07-02,user3,10',\n",
    "'2018-03-21,user4,19',\n",
    "'2018-03-22,user4,4',\n",
    "'2018-04-22,user4,8',\n",
    "'2018-05-03,user4,9',\n",
    "'2018-05-11,user4,11',\n",
    "]"
   ]
  },
  {
   "cell_type": "code",
   "execution_count": 95,
   "metadata": {},
   "outputs": [
    {
     "name": "stdout",
     "output_type": "stream",
     "text": [
      "[21, 7, 14, 51]\n",
      "23.25\n"
     ]
    }
   ],
   "source": [
    "stream = [\n",
    "'2018-01-01,user1,3',\n",
    "'2018-01-07,user1,4',\n",
    "'2018-03-29,user1,1',\n",
    "'2018-04-04,user1,13',\n",
    "'2018-01-05,user2,7',\n",
    "'2018-06-14,user3,4',\n",
    "'2018-07-02,user3,10',\n",
    "'2018-03-21,user4,19',\n",
    "'2018-03-22,user4,4',\n",
    "'2018-04-22,user4,8',\n",
    "'2018-05-03,user4,9',\n",
    "'2018-05-11,user4,11',\n",
    "]\n",
    "\n",
    "my_stream = [];\n",
    "for i in range(int(len(stream))):\n",
    "    my_stream.append(stream[i].split(','));\n",
    "\n",
    "users = 0;\n",
    "views = 0;\n",
    "users_v = [];\n",
    "curr_user = '';\n",
    "\n",
    "for i in range(int(len(stream))):\n",
    "    views = views + int(my_stream[i][2]);\n",
    "    if my_stream[i][1]!= curr_user: \n",
    "        curr_user = my_stream[i][1];\n",
    "        users_v.append(int(my_stream[i][2]));\n",
    "        users = users + 1;\n",
    "        continue;\n",
    "    users_v[users - 1] =  users_v[users - 1] + int(my_stream[i][2])\n",
    "\n",
    "\n",
    "print(users_v);\n",
    "print((views/users));\n"
   ]
  }
 ],
 "metadata": {
  "kernelspec": {
   "display_name": "Python 3",
   "language": "python",
   "name": "python3"
  },
  "language_info": {
   "codemirror_mode": {
    "name": "ipython",
    "version": 3
   },
   "file_extension": ".py",
   "mimetype": "text/x-python",
   "name": "python",
   "nbconvert_exporter": "python",
   "pygments_lexer": "ipython3",
   "version": "3.7.3"
  }
 },
 "nbformat": 4,
 "nbformat_minor": 2
}

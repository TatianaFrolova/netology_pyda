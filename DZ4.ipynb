{
 "cells": [
  {
   "cell_type": "markdown",
   "metadata": {},
   "source": [
    "# Задание к лекции \"Функции\".\n",
    "Для зачета необходимо правильно выполнить 4 заданий из 6.  \n",
    "Для зачета с отличием – все 6."
   ]
  },
  {
   "cell_type": "markdown",
   "metadata": {},
   "source": [
    "## Задание 1"
   ]
  },
  {
   "cell_type": "markdown",
   "metadata": {},
   "source": [
    "Дан список вида:"
   ]
  },
  {
   "cell_type": "code",
   "execution_count": 24,
   "metadata": {},
   "outputs": [],
   "source": [
    "data = [\n",
    "    [13, 25, 23, 34],\n",
    "    [45, 32, 44, 47],\n",
    "    [12, 33, 23, 95],\n",
    "    [13, 53, 34, 35]\n",
    "]"
   ]
  },
  {
   "cell_type": "markdown",
   "metadata": {},
   "source": [
    "Напишите функцию, которая возвращает сумму элементов на диагонали. Т. е. 13+32+23+35.  \n",
    "Список может быть любой длины, но всегда является \"квадратным\" (количество элементов во вложенных списках равно их количеству)."
   ]
  },
  {
   "cell_type": "code",
   "execution_count": 12,
   "metadata": {},
   "outputs": [
    {
     "name": "stdout",
     "output_type": "stream",
     "text": [
      "103\n"
     ]
    }
   ],
   "source": [
    "data = [\n",
    "    [13, 25, 23, 34],\n",
    "    [45, 32, 44, 47],\n",
    "    [12, 33, 23, 95],\n",
    "    [13, 53, 34, 35]\n",
    "]\n",
    "\n",
    "\n",
    "def get_sum_diagonal(f_list):\n",
    "    \"\"\"\n",
    "    this function counts diagonal numbers :-)\n",
    "\n",
    "    \"\"\"\n",
    "    _size = len(data)\n",
    "    result = 0\n",
    "    for i in range(_size):\n",
    "        result = result + f_list[i][i]\n",
    "    return result\n",
    "#*************************************************************\n",
    "\n",
    "print(get_sum_diagonal(data))"
   ]
  },
  {
   "cell_type": "markdown",
   "metadata": {},
   "source": [
    "## Задание 2"
   ]
  },
  {
   "cell_type": "markdown",
   "metadata": {},
   "source": [
    "Напишите функцию, возвращающую сумму первых n чисел Фибоначчи (для этого вам может понадобится ознакомиться с рекурсией)."
   ]
  },
  {
   "cell_type": "code",
   "execution_count": 108,
   "metadata": {},
   "outputs": [
    {
     "name": "stdout",
     "output_type": "stream",
     "text": [
      "[1, 1, 2, 3, 5, 8, 13, 21, 34, 55, 89, 144, 233, 377, 610, 987, 1597, 2584, 4181]\n"
     ]
    }
   ],
   "source": [
    "mas = [1,1];\n",
    "n = 20;\n",
    "\n",
    "\n",
    "def next_num(step, mas):\n",
    "    mas.insert(step,mas[step-2] + mas[step-1])  \n",
    "#*************************************************************\n",
    "for i in range(2,(n-1)):\n",
    "    next_num(i, mas) \n",
    "print(mas)"
   ]
  },
  {
   "cell_type": "markdown",
   "metadata": {},
   "source": [
    "## Задание 3"
   ]
  },
  {
   "cell_type": "code",
   "execution_count": 30,
   "metadata": {},
   "outputs": [],
   "source": [
    "cook_book = {\n",
    "  'салат': [\n",
    "     {'ingridient_name': 'сыр', 'quantity': 50, 'measure': 'гр'},\n",
    "     {'ingridient_name': 'томаты', 'quantity': 20, 'measure': 'гр'},\n",
    "     {'ingridient_name': 'огурцы', 'quantity': 20, 'measure': 'гр'},\n",
    "     {'ingridient_name': 'маслины', 'quantity': 10, 'measure': 'гр'},\n",
    "     {'ingridient_name': 'оливковое масло', 'quantity': 20, 'measure': 'мл'},\n",
    "     {'ingridient_name': 'салат', 'quantity': 10, 'measure': 'гр'},\n",
    "     {'ingridient_name': 'перец', 'quantity': 20, 'measure': 'гр'}\n",
    "    ],\n",
    "  'пицца': [\n",
    "     {'ingridient_name': 'сыр', 'quantity': 20, 'measure': 'гр'},\n",
    "     {'ingridient_name': 'колбаса', 'quantity': 30, 'measure': 'гр'},\n",
    "     {'ingridient_name': 'бекон', 'quantity': 30, 'measure': 'гр'},\n",
    "     {'ingridient_name': 'оливки', 'quantity': 10, 'measure': 'гр'},\n",
    "     {'ingridient_name': 'томаты', 'quantity': 20, 'measure': 'гр'},\n",
    "     {'ingridient_name': 'тесто', 'quantity': 100, 'measure': 'гр'},   \n",
    "    ],\n",
    "  'лимонад': [\n",
    "     {'ingridient_name': 'лимон', 'quantity': 1, 'measure': 'шт'},\n",
    "     {'ingridient_name': 'вода', 'quantity': 200, 'measure': 'мл'},\n",
    "     {'ingridient_name': 'сахар', 'quantity': 10, 'measure': 'гр'},\n",
    "     {'ingridient_name': 'лайм', 'quantity': 20, 'measure': 'гр'},    \n",
    "    ]\n",
    "}"
   ]
  },
  {
   "cell_type": "markdown",
   "metadata": {},
   "source": [
    "Напишите программу (она может состоять из нескольких функций), которая будет запрашивать у пользователя количество гостей и список блюд, которые будут подаваться каждому гостю. В результате программа должна выдавать список покупок, состоящий из ингредиентов, которые нужно купить в магазине (если ингредиенты повторяются, то их нужно записать одной строкой, а не отдельно).\n",
    "\n",
    "Пример:\n",
    "\n",
    "вызов\\_главной\\_функций()\n",
    "\n",
    "Введите количество гостей: 3  \n",
    "Введите блюда через пробел: пицца пицца лимонад\n",
    "\n",
    "Список покупок:  \n",
    "сыр 120 гр  \n",
    "колбаса 180 гр  \n",
    "бекон 180 гр  \n",
    "оливки 60 гр  \n",
    "томаты 120 гр  \n",
    "тесто 600 гр  \n",
    "лимон 3 шт  \n",
    "вода 600 мл  \n",
    "сахар 30 гр  \n",
    "лайм 60 гр  "
   ]
  },
  {
   "cell_type": "code",
   "execution_count": 17,
   "metadata": {},
   "outputs": [
    {
     "name": "stdout",
     "output_type": "stream",
     "text": [
      "сыр 120 гр\n",
      "колбаса 180 гр\n",
      "бекон 180 гр\n",
      "оливки 60 гр\n",
      "томаты 120 гр\n",
      "тесто 600 гр\n",
      "лимон 3 шт\n",
      "вода 600 мл\n",
      "сахар 30 гр\n",
      "лайм 60 гр\n"
     ]
    }
   ],
   "source": [
    "cook_book = {\n",
    "  'салат': [\n",
    "     {'ingridient_name': 'сыр', 'quantity': 50, 'measure': 'гр'},\n",
    "     {'ingridient_name': 'томаты', 'quantity': 20, 'measure': 'гр'},\n",
    "     {'ingridient_name': 'огурцы', 'quantity': 20, 'measure': 'гр'},\n",
    "     {'ingridient_name': 'маслины', 'quantity': 10, 'measure': 'гр'},\n",
    "     {'ingridient_name': 'оливковое масло', 'quantity': 20, 'measure': 'мл'},\n",
    "     {'ingridient_name': 'салат', 'quantity': 10, 'measure': 'гр'},\n",
    "     {'ingridient_name': 'перец', 'quantity': 20, 'measure': 'гр'}\n",
    "    ],\n",
    "  'пицца': [\n",
    "     {'ingridient_name': 'сыр', 'quantity': 20, 'measure': 'гр'},\n",
    "     {'ingridient_name': 'колбаса', 'quantity': 30, 'measure': 'гр'},\n",
    "     {'ingridient_name': 'бекон', 'quantity': 30, 'measure': 'гр'},\n",
    "     {'ingridient_name': 'оливки', 'quantity': 10, 'measure': 'гр'},\n",
    "     {'ingridient_name': 'томаты', 'quantity': 20, 'measure': 'гр'},\n",
    "     {'ingridient_name': 'тесто', 'quantity': 100, 'measure': 'гр'},   \n",
    "    ],\n",
    "  'лимонад': [\n",
    "     {'ingridient_name': 'лимон', 'quantity': 1, 'measure': 'шт'},\n",
    "     {'ingridient_name': 'вода', 'quantity': 200, 'measure': 'мл'},\n",
    "     {'ingridient_name': 'сахар', 'quantity': 10, 'measure': 'гр'},\n",
    "     {'ingridient_name': 'лайм', 'quantity': 20, 'measure': 'гр'},    \n",
    "    ]\n",
    "}\n",
    "\n",
    "\n",
    "\n",
    "\n",
    "def dishes_to_product(dishes_list):\n",
    "    # создам словарь для продуктов\n",
    "    my_dic = dict()\n",
    "    \n",
    "    # иду по листу блюд\n",
    "    for i in range(len(dishes_list)):\n",
    "        \n",
    "        # текущее блюдо и его ингридиенты\n",
    "        curr_pr = cook_book[dishes_list[i]]\n",
    "\n",
    "        # перебираю ингридиенты\n",
    "        for j in range(len(curr_pr)):\n",
    "\n",
    "            curr_pr_name     = curr_pr[j]['ingridient_name']\n",
    "            curr_pr_quantity = curr_pr[j]['quantity']\n",
    "            curr_pr_measure  = curr_pr[j]['measure']\n",
    "            \n",
    "            # смотрю в своем словаре был ли такой ингридиент\n",
    "            quant = my_dic.get(curr_pr_name)\n",
    "\n",
    "            \n",
    "            if quant == None:\n",
    "                # если в моем словаре еще не было такого ингридиента, то добавляю в словарь новый элемент\n",
    "                my_dic.setdefault(curr_pr_name , [curr_pr_quantity, curr_pr_measure])  \n",
    "            else: \n",
    "                # если в моем словаре уже есть такой ингридиент, то увеличиваю его количество\n",
    "                sum_quant = quant[0] + curr_pr_quantity\n",
    "                my_dic[curr_pr_name] = [sum_quant,curr_pr_measure] \n",
    "                \n",
    "                \n",
    "    return my_dic\n",
    "\n",
    "\n",
    "\n",
    "        \n",
    "def get_shoppinglist(num_guests,dishes_list):\n",
    "    product_list = dishes_to_product(dishes_list)\n",
    "    for k, j in product_list.items():\n",
    "        print(k + \" \" + str(j[0]*num_guests) + \" \" + j[1])\n",
    "        \n",
    "        \n",
    "        \n",
    "        \n",
    "def main():\n",
    "    num_guests = 3; #input('Введите количество гостей')\n",
    "    dishes =  \"пицца пицца лимонад\"; #input('Введите блюда через пробел: ')\n",
    "    dishes_list = dishes.split(' ')\n",
    "    get_shoppinglist(num_guests,dishes_list)\n",
    "\n",
    "    \n",
    "#*************************************************************\n",
    "\n",
    "main()\n",
    "    \n",
    "\n"
   ]
  },
  {
   "cell_type": "markdown",
   "metadata": {},
   "source": [
    "## Задание 4"
   ]
  },
  {
   "cell_type": "markdown",
   "metadata": {},
   "source": [
    "Вы работаете секретарем и вам постоянно приходят различные документы. Вы должны быть очень внимательны, чтобы не потерять ни один документ. Каталог документов хранится в следующем виде:"
   ]
  },
  {
   "cell_type": "code",
   "execution_count": 4,
   "metadata": {},
   "outputs": [],
   "source": [
    "documents = [\n",
    "    {'type': 'passport', 'number': '2207 876234', 'name': 'Василий Гупкин'},\n",
    "    {'type': 'invoice', 'number': '11-2', 'name': 'Геннадий Покемонов'},\n",
    "    {'type': 'insurance', 'number': '10006', 'name': 'Аристарх Павлов'}\n",
    "]"
   ]
  },
  {
   "cell_type": "markdown",
   "metadata": {},
   "source": [
    "Перечень полок, на которых находятся документы хранится в следующем виде:"
   ]
  },
  {
   "cell_type": "code",
   "execution_count": 5,
   "metadata": {},
   "outputs": [],
   "source": [
    "directories = {\n",
    "    '1': ['2207 876234', '11-2', '5455 028765'],\n",
    "    '2': ['10006', '5400 028765', '5455 002299'],\n",
    "    '3': []\n",
    "}"
   ]
  },
  {
   "cell_type": "markdown",
   "metadata": {},
   "source": [
    "Необходимо реализовать пользовательские команды (внимание! это не название функций, которые должны быть выразительными, а команды, которые вводит пользователь, чтобы получить необходимый результат):\n",
    "  \n",
    "- p – people – команда, которая спросит номер документа и выведет имя человека, которому он принадлежит;  \n",
    "- s – shelf – команда, которая спросит номер документа и выведет номер полки, на которой он находится  \n",
    "Правильно обработайте ситуацию, когда пользователь будет вводить несуществующий документ."
   ]
  },
  {
   "cell_type": "markdown",
   "metadata": {},
   "source": [
    "## Задание 5"
   ]
  },
  {
   "cell_type": "markdown",
   "metadata": {},
   "source": [
    "К условию из задания 5 реализуйте следующие команды:\n",
    "  \n",
    "- l – list – команда, которая выведет список всех документов в формате   \n",
    "**passport \"2207 876234\" \"Василий Гупкин\"**  \n",
    "- as – add shelf – команда, которая спросит номер новой полки и добавит ее в перечень"
   ]
  },
  {
   "cell_type": "markdown",
   "metadata": {},
   "source": [
    "## Задание 6"
   ]
  },
  {
   "cell_type": "markdown",
   "metadata": {},
   "source": [
    "К условию из задания 5 реализуйте следующие команды:  \n",
    "  \n",
    "- d – delete – команда, которая спросит номер документа и удалит его из каталога и из перечня полок. Предусмотрите сценарий, когда пользователь вводит несуществующий документ;  \n",
    "- m – move – команда, которая спросит номер документа и целевую полку и переместит его с текущей полки на целевую. Корректно обработайте кейсы, когда пользователь пытается переместить несуществующий документ или переместить документ на несуществующую полку;  \n",
    "- a – add – команда, которая добавит новый документ в каталог и в перечень полок, спросив его номер, тип, имя владельца и номер полки, на котором он будет храниться."
   ]
  },
  {
   "cell_type": "code",
   "execution_count": 24,
   "metadata": {},
   "outputs": [
    {
     "name": "stdout",
     "output_type": "stream",
     "text": [
      "Для выхода нажмите q\n",
      "Введите команду  l\n",
      "insurance 10006 Аристарх Павлов\n",
      "passport 2207 876234 Василий Гупкин\n",
      "invoice 11-2 Геннадий Покемонов\n",
      "Введите команду  q\n",
      "Выход\n"
     ]
    }
   ],
   "source": [
    "#*********************************************************************************************************************\n",
    "#*****      РЕШЕНИЕ ЗАДАЧ  4,5,6     *********************************************************************************\n",
    "#*********************************************************************************************************************\n",
    "\n",
    "documents = [\n",
    "    {'type': 'passport', 'number': '2207 876234', 'name': 'Василий Гупкин'},\n",
    "    {'type': 'invoice', 'number': '11-2', 'name': 'Геннадий Покемонов'},\n",
    "    {'type': 'insurance', 'number': '10006', 'name': 'Аристарх Павлов'}\n",
    "]  # список словарей // documents[1]['number']\n",
    "\n",
    "directories = {\n",
    "    '1': ['2207 876234', '11-2', '5455 028765'],\n",
    "    '2': ['10006', '5400 028765', '5455 002299'],\n",
    "    '3': []\n",
    "} # словарь со списками // directories['1'][1]\n",
    "\n",
    "\n",
    "\n",
    "#*********************************************************************************************************************\n",
    "#*********************************************************************************************************************\n",
    "\n",
    "def get_document_position(doc_num):   \n",
    "    # функция в списке documents находит индекс документа с номером doc_num\n",
    "    # возвращает none если документ не найден, либо индекс документа в списке\n",
    "    ind = None\n",
    "    for j in range(len(documents)):\n",
    "        if documents[j-1]['number'] == doc_num:\n",
    "            ind = j-1\n",
    "            break         \n",
    "    return ind  \n",
    "\n",
    "def get_shelf_and_document_position(doc_num):   \n",
    "    # функция в списке directories находит название полки и индекс документа doc_num на этой полке\n",
    "    # возвращает список(наименование полки, индект документа на полке), \n",
    "    # либо (none, none) если полка и документ не найдены\n",
    "    pos_on_shelf = None \n",
    "    sh_name = None\n",
    "    \n",
    "    for k, doclist in directories.items():  # перебираем полки\n",
    "        for j in range(len(doclist)): # перебираем доки на полке\n",
    "            if doclist[j-1] == doc_num:\n",
    "                sh_name = k  # запомнили номер полки\n",
    "                pos_on_shelf = j - 1  # запомнили позицию документа на полке\n",
    "                break \n",
    "        if pos_on_shelf != None: break \n",
    "            \n",
    "    return (sh_name, pos_on_shelf)\n",
    "\n",
    "    \n",
    "\n",
    "\n",
    "def delete_doc_from_shelf(sh_name, pos_on_shelf):   \n",
    "    # функция в списке directories находит полку с названием названием sh_name \n",
    "    # и удаляет на этой поле документ с индексом pos_on_shelf\n",
    "    \n",
    "    if pos_on_shelf == None:\n",
    "        print('Документ не найден')   \n",
    "    else: \n",
    "        directories[sh_name].pop(pos_on_shelf)\n",
    "\n",
    "\n",
    "        \n",
    "def shelf_exists(sh):\n",
    "    # функция проверяет существование полки с названием sh\n",
    "    \n",
    "    if directories.get(sh) == None:\n",
    "        return False\n",
    "    else: return True\n",
    "    \n",
    " \n",
    "    \n",
    "#*********************************************************************************************************************\n",
    "#*********************************************************************************************************************\n",
    "\n",
    "def command_p():\n",
    "    # p – people – команда, которая спросит номер документа и выведет имя человека, которому он принадлежит; \n",
    "    \n",
    "    doc_num = input('Введите номер документа  ')\n",
    "    ind = get_document_position(doc_num)    \n",
    "    if ind == None:\n",
    "        print('Документ не найден')    \n",
    "    else: print('Владелец документа: '+ str(documents[ind]['name']))    \n",
    "        \n",
    "        \n",
    "def command_s():\n",
    "    # s – shelf – команда, которая спросит номер документа и выведет номер полки, на которой он находится\n",
    "    # Правильно обработайте ситуацию, когда пользователь будет вводить несуществующий документ.   \n",
    "    \n",
    "    doc_num = input('Введите номер документа  ')\n",
    "    sh_doc_ind = get_shelf_and_document_position(doc_num)\n",
    "    sh_name = sh_doc_ind[0]\n",
    "    pos_on_shelf = sh_doc_ind[1]\n",
    "    if pos_on_shelf == None:\n",
    "        print('Документ не найден')   \n",
    "    else: print('Полка № '+ str(sh_name))\n",
    "    \n",
    "        \n",
    "def command_l():\n",
    "    #l – list – команда, которая выведет список всех документов в формате\n",
    "    #passport \"2207 876234\" \"Василий Гупкин\" \n",
    "    \n",
    "    for j in range(len(documents)):\n",
    "        print(documents[j-1]['type'] +\" \" + documents[j-1]['number']  + \" \" + documents[j-1]['name'] )\n",
    "   \n",
    "    \n",
    "def command_as():\n",
    "    #as – add shelf – команда, которая спросит номер новой полки и добавит ее в перечень\n",
    "    \n",
    "    sh_num = input('Введите номер новой полки  ')\n",
    "    directories.setdefault(sh_num, [])\n",
    "    print(directories)\n",
    "    \n",
    "      \n",
    "def command_d():\n",
    "    #d – delete – команда, которая спросит номер документа и удалит его из каталога \n",
    "    #и из перечня полок. Предусмотрите сценарий, когда пользователь вводит несуществующий документ; \n",
    "    \n",
    "    \n",
    "    doc_num = input('Введите номер документа  ')\n",
    "    \n",
    "    # удаляем документ из списка документов documents\n",
    "    ind = get_document_position(doc_num)\n",
    "    if ind == None:\n",
    "        print('Документ не найден')\n",
    "    else: documents.pop(ind)  # pop() удаляет элемент в списке по индексу  \n",
    "    \n",
    "\n",
    "    # удаляем документ с полки\n",
    "    sh_doc_ind = get_shelf_and_document_position(doc_num)\n",
    "    sh_name = sh_doc_ind[0]\n",
    "    pos_on_shelf = sh_doc_ind[1]\n",
    "    if pos_on_shelf == None:\n",
    "        print('Документ№  ' + str(doc_num) + '  на полках не найден')\n",
    "    else: \n",
    "        delete_doc_from_shelf(sh_name, pos_on_shelf)\n",
    "      \n",
    "    print(documents)\n",
    "    print(directories)\n",
    "\n",
    "        \n",
    "\n",
    "def command_m():  \n",
    "    #m – move – команда, которая спросит номер документа и целевую полку и переместит его \n",
    "    #с текущей полки на целевую. Корректно обработайте кейсы, когда пользователь пытается \n",
    "    #переместить несуществующий документ или переместить документ на несуществующую полку; \n",
    "    \n",
    "    \n",
    "    doc_num = input('Введите номер документа  ')\n",
    "    new_sh_name = input('Поместить документ на полку  ')\n",
    "    \n",
    "    # проверяем, что полка существует\n",
    "    if shelf_exists(new_sh_name) == False:\n",
    "        print('Полки с наименованием ' + str(new_sh_name) + ' не существует. Перемещение документа не выполнено.')\n",
    "        return \n",
    "    \n",
    "    # удаляем документ с полки\n",
    "    sh_doc_ind = get_shelf_and_document_position(doc_num)\n",
    "    sh_name = sh_doc_ind[0]\n",
    "    pos_on_shelf = sh_doc_ind[1]\n",
    "    if pos_on_shelf == None:\n",
    "        print('Документ№  ' + str(doc_num) + '  на полках не найден')\n",
    "        return \n",
    "    else: \n",
    "        delete_doc_from_shelf(sh_name, pos_on_shelf)\n",
    "        \n",
    "    # помещаем документ на новую полку\n",
    "    directories[new_sh_name].append(doc_num)\n",
    "    print(directories)\n",
    "    \n",
    "    \n",
    "def command_a():\n",
    "    #a – add – команда, которая добавит новый документ в каталог и в перечень полок, \n",
    "    #спросив его номер, тип, имя владельца и номер полки, на котором он будет храниться.  \n",
    "    \n",
    "    doc_num       = input('Введите номер документа  ')\n",
    "    doc_type      = input('Введите тип документа  ')\n",
    "    doc_owner     = input('Введите имя владельца документа  ')\n",
    "    new_sh_name   = input('Введите номер полки для хранения документа  ')  \n",
    "    \n",
    "    # проверяем, что полка существует\n",
    "    if shelf_exists(new_sh_name) == False:\n",
    "        print('Полки с наименованием ' + str(new_sh_name) + ' не существует. Документ не внесен в систему.')\n",
    "        return \n",
    "    \n",
    "    documents.append({'type': doc_type, 'number': doc_num, 'name': doc_owner})\n",
    "    directories[new_sh_name].append(doc_num)\n",
    "    print(documents)\n",
    "    print(directories)    \n",
    "\n",
    "\n",
    "#*********************************************************************************************************************\n",
    "#*********************************************************************************************************************\n",
    "    \n",
    "def getcommand():\n",
    "    \n",
    "    command = input('Введите команду  ')\n",
    "    if command == \"q\":\n",
    "        return False\n",
    "    else: \n",
    "        if  command == \"p\":\n",
    "            command_p()  \n",
    "        elif command == \"s\":\n",
    "            command_s()\n",
    "        elif command == \"l\":\n",
    "            command_l()\n",
    "        elif command == \"as\":\n",
    "            command_as()\n",
    "        elif command == \"d\":\n",
    "            command_d()  \n",
    "        elif command == \"m\":\n",
    "            command_m()     \n",
    "        elif command == \"a\":\n",
    "            command_a()               \n",
    "        else:  \n",
    "            print('Команда введена не корректно.')         \n",
    "        return True\n",
    "    \n",
    "\n",
    "print('Для выхода нажмите q')\n",
    "i = 1\n",
    "while i > 0:\n",
    "    go_on = getcommand()\n",
    "    if go_on == True:\n",
    "        i = i + 1\n",
    "    else: break\n",
    "print('Выход')\n",
    "\n"
   ]
  },
  {
   "cell_type": "code",
   "execution_count": null,
   "metadata": {},
   "outputs": [],
   "source": []
  }
 ],
 "metadata": {
  "kernelspec": {
   "display_name": "Python 3",
   "language": "python",
   "name": "python3"
  },
  "language_info": {
   "codemirror_mode": {
    "name": "ipython",
    "version": 3
   },
   "file_extension": ".py",
   "mimetype": "text/x-python",
   "name": "python",
   "nbconvert_exporter": "python",
   "pygments_lexer": "ipython3",
   "version": "3.7.3"
  }
 },
 "nbformat": 4,
 "nbformat_minor": 2
}

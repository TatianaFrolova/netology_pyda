{
 "cells": [
  {
   "cell_type": "markdown",
   "metadata": {},
   "source": [
    "# Домашнее задание к лекции Управляющие конструкции и коллекции часть 2"
   ]
  },
  {
   "cell_type": "markdown",
   "metadata": {},
   "source": [
    "Задание 1\n",
    "Дана статистика рекламных каналов по объемам продаж. Напишите скрипт, который возвращает название канала с максимальным объемом.\n",
    "Т. е. в данном примере скрипт должен возвращать “yandex”.\n",
    "stats = {“facebook”: 55, “yandex”: 120, “vk”: 115, “google”: 99, “email”: 42, “ok”: 98}"
   ]
  },
  {
   "cell_type": "code",
   "execution_count": 1,
   "metadata": {},
   "outputs": [
    {
     "name": "stdout",
     "output_type": "stream",
     "text": [
      "Канал с максимальным объемом продаж: yandex\n"
     ]
    }
   ],
   "source": [
    "stats = {\"facebook\": 55, \"yandex\": 120, \"vk\": 115 , \"google\": 99, \"email\": 42, \"ok\": 98}\n",
    "r = sorted(stats.items(), key = lambda x: -x[1])\n",
    "print(\"Канал с максимальным объемом продаж: \" + str(r[0][0]))"
   ]
  },
  {
   "cell_type": "markdown",
   "metadata": {},
   "source": [
    "Задание 2\n",
    "Дан список описаний товаров descriptions:\n",
    "descriptions = [\n",
    "[\"браслет\", \"xiaomi\", \"mi\", \"band\", v2.\", \"умный\", \"браслет\", \"xiaomi\", \"mi\", \"лидер\", \"в\", \"линейке\", \"xiaomi.\", vфитнес\", \"браслет\", \"для\", \"android\", \"4.4,\", \"ios\", \"7,\", \"экран\", \"oled.\", \"лучший\", \"выбор\", \"xiaomi\"],\n",
    "[\"браслет\", \"huawei\", \"honor\", \"band\", \"3.\", \"фитнес\", \"браслет\", \"влагозащищенный\", \"сенсорный\", \"экран\", \"android,\", \"ios\", \"мониторинг\", \"сна\"],\n",
    "[\"браслет\", \"samsung\", \"gear\", \"fit2\", \"pro.\", \"влагозащищенный\", \"сенсорный\",\"amoled-экран\",\"мониторинг\", \"сна,\", \"калорий,\", \"новинка\", \"samsung\"],\n",
    "]\n",
    "\n",
    "Есть подозрение, что некоторые описания содержат много дубликатов одних и тех же слов. Т. е. могут быть переоптимизированными. Для каждого описания товара выведите на экран разницу между количеством уникальных слов и общим количеством слов в этом описании."
   ]
  },
  {
   "cell_type": "code",
   "execution_count": 83,
   "metadata": {},
   "outputs": [
    {
     "name": "stdout",
     "output_type": "stream",
     "text": [
      "0: количество описаний 25, количество уникальных описаний: 20\n",
      "1: количество описаний 14, количество уникальных описаний: 13\n",
      "2: количество описаний 13, количество уникальных описаний: 12\n"
     ]
    }
   ],
   "source": [
    "descriptions = [\n",
    "[\"браслет\", \"xiaomi\", \"mi\", \"band\", \"v2.\", \"умный\", \"браслет\", \"xiaomi\", \"mi\", \"лидер\", \"в\", \"линейке\", \"xiaomi.\", \n",
    " \"vфитнес\", \"браслет\", \"для\", \"android\", \"4.4,\", \"ios\", \"7,\", \"экран\", \"oled.\", \"лучший\", \"выбор\", \"xiaomi\"],\n",
    " \n",
    "[\"браслет\", \"huawei\", \"honor\", \"band\", \"3.\", \"фитнес\", \"браслет\", \"влагозащищенный\", \"сенсорный\", \"экран\", \n",
    " \"android,\", \"ios\", \"мониторинг\", \"сна\"],\n",
    " \n",
    "[\"браслет\", \"samsung\", \"gear\", \"fit2\", \"pro.\", \"влагозащищенный\", \"сенсорный\",\"amoled-экран\",\"мониторинг\", \"сна,\", \n",
    " \"калорий,\", \"новинка\", \"samsung\"],\n",
    "]\n",
    "\n",
    "#print(type(descriptions))\n",
    "\n",
    "for i in range(len(descriptions)):\n",
    "    list_len = len(descriptions[i])\n",
    "    dic_len = len({n: n for n in descriptions[i]})\n",
    "    print(str(i)+ \": количество описаний \"+ str(list_len)+ \", количество уникальных описаний: \" + str(dic_len))\n",
    "    "
   ]
  },
  {
   "cell_type": "markdown",
   "metadata": {},
   "source": [
    "Задание 3\n",
    "В примере поиска с помощью кортежей мы использовали 3 столбца. Напишите функцию, которая формирует словарь для поиска по n столбцам."
   ]
  },
  {
   "cell_type": "code",
   "execution_count": 11,
   "metadata": {
    "scrolled": true
   },
   "outputs": [],
   "source": [
    "# Не поняла эту задачу\n",
    "n = 3\n",
    "\n",
    "\n",
    "def get_dic(n,mfile):\n",
    "    stats_dict = {}\n",
    "    with mfile as f:\n",
    "        for line in f:\n",
    "            line = line.strip().split(',') \n",
    "            stats_dict[tuple(line[:n])] = line[n]\n",
    "    return stats_dict    \n",
    "    \n",
    "\n",
    "\n",
    "mfile = open('//Users/tatianafrolova/Downloads/3-2/stats.csv')    \n",
    "mdic = get_dic(n,mfile)\n",
    "\n",
    "\n",
    "#for key, value in mdic.items():\n",
    "#    print(key, value)  \n",
    "#    break"
   ]
  },
  {
   "cell_type": "code",
   "execution_count": null,
   "metadata": {},
   "outputs": [],
   "source": []
  }
 ],
 "metadata": {
  "kernelspec": {
   "display_name": "Python 3",
   "language": "python",
   "name": "python3"
  },
  "language_info": {
   "codemirror_mode": {
    "name": "ipython",
    "version": 3
   },
   "file_extension": ".py",
   "mimetype": "text/x-python",
   "name": "python",
   "nbconvert_exporter": "python",
   "pygments_lexer": "ipython3",
   "version": "3.7.3"
  }
 },
 "nbformat": 4,
 "nbformat_minor": 2
}

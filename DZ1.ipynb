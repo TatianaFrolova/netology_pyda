{
 "cells": [
  {
   "cell_type": "markdown",
   "metadata": {},
   "source": [
    "# Домашнее задание к лекции Основы Python\n"
   ]
  },
  {
   "cell_type": "markdown",
   "metadata": {},
   "source": [
    "Задание 1.\n",
    "Даны 2 строки long_phrase и short_phrase. Напишите код, который проверяет действительно ли длинная фраза long_phrase длиннее короткой short_phrase. И выводит True или False в зависимости от результата сравнения."
   ]
  },
  {
   "cell_type": "code",
   "execution_count": 2,
   "metadata": {},
   "outputs": [
    {
     "name": "stdout",
     "output_type": "stream",
     "text": [
      "False\n"
     ]
    }
   ],
   "source": [
    "long_phrase  = 'd;fjboerjve';\n",
    "short_phrase = 'fewhfkesw esgfqurge y ao gqae8rgy ';\n",
    "if len(long_phrase) > len(short_phrase):\n",
    "    print(True);\n",
    "else: print(False);"
   ]
  },
  {
   "cell_type": "markdown",
   "metadata": {},
   "source": [
    "Задание 2.\n",
    "Дано значение объема файла в байтах. Напишите перевод этого значения в мегабайты в формате:\n",
    "‘Объем файла равен 213.68Mb’"
   ]
  },
  {
   "cell_type": "code",
   "execution_count": 46,
   "metadata": {},
   "outputs": [
    {
     "name": "stdout",
     "output_type": "stream",
     "text": [
      "Введите объем файла в байтах: 1000000\n",
      "Объем файла равен 0.95367431640625Mb\n"
     ]
    }
   ],
   "source": [
    "size_byte = int(input('Введите объем файла в байтах: '));\n",
    "size_megabyte = size_byte/1024/1024;\n",
    "print('Объем файла равен ' + str(size_megabyte) + 'Mb');"
   ]
  },
  {
   "cell_type": "markdown",
   "metadata": {},
   "source": [
    "Задание 3.\n",
    "Разработать приложение для определения знака зодиака по дате рождения.\n",
    "Пример:\n",
    "Введите месяц: март\n",
    "Введите число: 6\n",
    "Вывод:\n",
    "Рыбы"
   ]
  },
  {
   "cell_type": "code",
   "execution_count": 54,
   "metadata": {},
   "outputs": [
    {
     "name": "stdout",
     "output_type": "stream",
     "text": [
      "Введите месяц: 5\n",
      "Введите число: 18\n",
      "Телец\n"
     ]
    }
   ],
   "source": [
    "month = int(input('Введите месяц: '));\n",
    "num = int(input('Введите число: '));\n",
    "\n",
    "if month == 1:\n",
    "    if num <= 20:\n",
    "        print('Козерог')\n",
    "    else:  print('Водолей')\n",
    "elif month == 2:\n",
    "    if num <= 20:\n",
    "        print('Водолей')\n",
    "    else:  print('Рыбы')\n",
    "elif month == 3:\n",
    "    if num <= 20:\n",
    "        print('Рыбы')\n",
    "    else:  print('Овен')\n",
    "elif month == 4:\n",
    "    if num <= 20:\n",
    "        print('Овен')\n",
    "    else:  print('Телец')\n",
    "elif month == 5:\n",
    "    if num <= 20:\n",
    "        print('Телец')\n",
    "    else:  print('Близнец')\n",
    "elif month == 6:\n",
    "    if num <= 20:\n",
    "        print('Близнец')\n",
    "    else:  print('Рак')\n",
    "elif month == 7:\n",
    "    if num <= 20:\n",
    "        print('Рак')\n",
    "    else:  print('Лев')\n",
    "elif month == 8:\n",
    "    if num <= 20:\n",
    "        print('Лев')\n",
    "    else:  print('Дева')\n",
    "elif month == 9:\n",
    "    if num <= 20:\n",
    "        print('Дева')\n",
    "    else:  print('Весы')\n",
    "elif month == 10:\n",
    "    if num <= 20:\n",
    "        print('Весы')\n",
    "    else:  print('Скорпион')\n",
    "elif month == 11:\n",
    "    if num <= 20:\n",
    "        print('Скорпион')\n",
    "    else:  print('Стрелец')\n",
    "elif month == 12:\n",
    "    if num <= 20:\n",
    "        print('Стрелец')\n",
    "    else:  print('Козерог');\n",
    "else: print('Чувак, ты не родился!')\n",
    " "
   ]
  },
  {
   "cell_type": "markdown",
   "metadata": {},
   "source": [
    "Задание 4.\n",
    "Нужно разработать приложение для финансового планирования.\n",
    "Приложение учитывает сколько уходит на ипотеку, “на жизнь” и сколько нужно отложить на пенсию.\n",
    "Пользователь вводит заработанную плату в месяц.\n",
    "Сколько процентов от зп уходит на ипотеку.\n",
    "Сколько процентов от зп уходит “на жизнь”.\n",
    "Сколько раз приходит премия в год.\n",
    "Остальная часть заработанной платы откладывается на пенсию.\n",
    "Также пользователю приходит премия в размере зарплаты, от которой половина уходит на отпуск, а вторая половина откладывается.\n",
    "Программа должна учитывать сколько премий было в год.\n",
    "Нужно вывести сколько денег тратит пользователь на ипотеку и сколько он накопит за год.\n",
    "Пример:\n",
    "Введите заработанную плату в месяц: 100000\n",
    "Введите сколько процентов уходит на ипотеку: 30\n",
    "Введите сколько процентов уходит на жизнь: 50\n",
    "Введите количество премий за год: 2\n",
    "Вывод:\n",
    "На ипотеку было потрачено: 360000 рублей\n",
    "Было накоплено: 340000 рублей\n"
   ]
  },
  {
   "cell_type": "code",
   "execution_count": null,
   "metadata": {},
   "outputs": [],
   "source": [
    "salary = int(input('Введите заработанную плату в месяц: '));\n",
    "pr_mortgage = int(input('Введите сколько процентов уходит на ипотеку: '));\n",
    "pr_life = int(input('Введите сколько процентов уходит на жизнь: '));\n",
    "bonuses = int(input('Введите количество премий за год: '));\n",
    "sum_mortgage = salary * pr_mortgage/100*12;\n",
    "sum_life = salary * pr_life/100*12;\n",
    "saiving = (12*salary - sum_mortgage - sum_life) + salary * bonuses/2;\n",
    "\n",
    "print('На ипотеку было потрачено: ' + str(sum_mortgage));\n",
    "print('Было накоплено: ' + str(saiving));\n"
   ]
  },
  {
   "cell_type": "markdown",
   "metadata": {},
   "source": [
    "# Задание дополнительное"
   ]
  },
  {
   "cell_type": "markdown",
   "metadata": {},
   "source": [
    "Задание 1\n",
    "https://ru.wikipedia.org/wiki/Fizz_buzz\n",
    "Начинающий произносит число “1”, и каждый следующий игрок прибавляет к предыдущему значению единицу. Когда число делится на три оно заменяется на fizz, если число делится на пять, то произносится buzz. Числа, делящиеся на три и пять одновременно заменяются на fizz buzz. Сделавший ошибку игрок исключается из игры.\n",
    "Типичная партия в fizz buzz выглядит так:\n",
    "1, 2, Fizz, 4, Buzz, Fizz, 7, 8, Fizz, Buzz, 11, Fizz, 13, 14, Fizz Buzz, 16, 17, Fizz, 19, Buzz, Fizz, 22, 23, Fizz, Buzz, 26, Fizz, 28, 29, Fizz Buzz, 31, 32, Fizz, 34, Buzz, Fizz, …\n",
    "Напишите код, выводящий на экран первые n элементов этой игры (естественно, корректные)."
   ]
  },
  {
   "cell_type": "code",
   "execution_count": 1,
   "metadata": {},
   "outputs": [
    {
     "name": "stdout",
     "output_type": "stream",
     "text": [
      "1,\n",
      "2,\n",
      "Fizz,\n",
      "4,\n",
      "buzz,\n",
      "Fizz,\n",
      "7,\n",
      "8,\n",
      "Fizz,\n",
      "buzz,\n",
      "11,\n",
      "Fizz,\n",
      "13,\n",
      "14,\n",
      "Fizz buzz,\n",
      "16,\n",
      "17,\n",
      "Fizz,\n",
      "19,\n",
      "buzz,\n"
     ]
    }
   ],
   "source": [
    "IterNum = 20;\n",
    "i = 1;\n",
    "while (i <= IterNum):\n",
    "    if (((i%3) == 0) and ((i%5) != 0)): print('Fizz,');\n",
    "    if (((i%3) != 0) and ((i%5) == 0)): print('buzz,');\n",
    "    if (((i%3) == 0) and ((i%5) == 0)): print('Fizz buzz,');\n",
    "    if (((i%3) != 0) and ((i%5) != 0)): print(str(i)+',');\n",
    "    i = i + 1;"
   ]
  },
  {
   "cell_type": "markdown",
   "metadata": {},
   "source": [
    "Задание 2\n",
    "Датчик принимает сигнал, состоящий из 0 и 1. Известно, что сигнал имеет периодичность, не превышающей натурального числа n. Напишите код, который вычисляет периодичность сигнала. Считайте, что 3 < n < 1000, а общая длина сигнала значительно превышает n.\n",
    "Пример сигнала с периодичностью 4 (повторяющийся элемент 1011):\n",
    "1011101110111011101110111011101110111011"
   ]
  },
  {
   "cell_type": "code",
   "execution_count": null,
   "metadata": {},
   "outputs": [],
   "source": [
    "signal = '1011101110111011101110111011101110111011';\n",
    "i = 4;\n",
    "first_fragment = second_fragment = '';\n",
    "while i!=10:\n",
    "    first_fragment  = signal[0:i];\n",
    "    second_fragment = signal[i:2*i];\n",
    "    i = i + 1;\n",
    "    if (first_fragment == second_fragment): break;\n",
    "print(first_fragment);"
   ]
  },
  {
   "cell_type": "markdown",
   "metadata": {},
   "source": [
    "Задание 3\n",
    "Дано слово из латинских букв. Напишите скрипт, который выводит на экран букву из середины слова (если число букв нечетное). Если букв четное число, то на экран выводятся две буквы из середины.\n",
    "Для ‘test’ - 'es’\n",
    "Для ‘testing’ - ‘t’"
   ]
  },
  {
   "cell_type": "code",
   "execution_count": null,
   "metadata": {},
   "outputs": [],
   "source": [
    "word = 'dfvklevghovhjoi';\n",
    "length = len(word);\n",
    "if (length % 2 == 0):\n",
    "    #если четное\n",
    "    print(word[length//2-1: length//2+1]);\n",
    "else:\n",
    "    # если нечетное\n",
    "    print(word[length//2+1]);"
   ]
  }
 ],
 "metadata": {
  "kernelspec": {
   "display_name": "Python 3",
   "language": "python",
   "name": "python3"
  },
  "language_info": {
   "codemirror_mode": {
    "name": "ipython",
    "version": 3
   },
   "file_extension": ".py",
   "mimetype": "text/x-python",
   "name": "python",
   "nbconvert_exporter": "python",
   "pygments_lexer": "ipython3",
   "version": "3.7.3"
  }
 },
 "nbformat": 4,
 "nbformat_minor": 2
}

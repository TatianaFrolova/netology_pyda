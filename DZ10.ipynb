{
 "cells": [
  {
   "cell_type": "markdown",
   "metadata": {},
   "source": [
    "# Домашнее задание к лекции \"Библиотека Pandas\""
   ]
  },
  {
   "cell_type": "markdown",
   "metadata": {},
   "source": [
    "Задание 1\n",
    "Скачайте с сайта https://grouplens.org/datasets/movielens/ датасет любого размера. Определите какому фильму было выставлено больше всего оценок 5.0."
   ]
  },
  {
   "cell_type": "code",
   "execution_count": 256,
   "metadata": {},
   "outputs": [
    {
     "name": "stdout",
     "output_type": "stream",
     "text": [
      "   rating  movieId                             title\n",
      "0     153      318  Shawshank Redemption, The (1994)\n"
     ]
    }
   ],
   "source": [
    "import pandas as pd\n",
    "\n",
    "data = pd.read_csv('/Users/tatianafrolova/Downloads/ml-latest-small/ratings.csv')\n",
    "data_movies = pd.read_csv('/Users/tatianafrolova/Downloads/ml-latest-small/movies.csv')\n",
    "#data[ (data.rating == 5 )].groupby(['movieId']).size().sort_values( ascending=False).head(1)\n",
    "#data[ (data.rating == 5 )].groupby(['movieId']).count()['rating'].max()\n",
    "dmax = data[ (data.rating == 5 )].groupby(['movieId']).count().sort_values(by=['rating','movieId'], ascending=False).head(1)\n",
    "full_data = dmax.merge(data_movies, how = 'left', left_on='movieId', right_on='movieId')\n",
    "print(full_data[['rating','movieId','title']])\n",
    "#print(full_data[\"title\"])\n"
   ]
  },
  {
   "cell_type": "markdown",
   "metadata": {},
   "source": [
    "Задание 2\n",
    "По данным файла power.csv посчитайте суммарное потребление стран Прибалтики (Латвия, Литва и Эстония) категорий 4, 12 и 21 за период с 2005 по 2010 года. Не учитывайте в расчетах отрицательные значения quantity."
   ]
  },
  {
   "cell_type": "code",
   "execution_count": 261,
   "metadata": {},
   "outputs": [
    {
     "data": {
      "text/html": [
       "<div>\n",
       "<style scoped>\n",
       "    .dataframe tbody tr th:only-of-type {\n",
       "        vertical-align: middle;\n",
       "    }\n",
       "\n",
       "    .dataframe tbody tr th {\n",
       "        vertical-align: top;\n",
       "    }\n",
       "\n",
       "    .dataframe thead th {\n",
       "        text-align: right;\n",
       "    }\n",
       "</style>\n",
       "<table border=\"1\" class=\"dataframe\">\n",
       "  <thead>\n",
       "    <tr style=\"text-align: right;\">\n",
       "      <th></th>\n",
       "      <th>quantity</th>\n",
       "    </tr>\n",
       "  </thead>\n",
       "  <tbody>\n",
       "    <tr>\n",
       "      <th>sum</th>\n",
       "      <td>240580.0</td>\n",
       "    </tr>\n",
       "  </tbody>\n",
       "</table>\n",
       "</div>"
      ],
      "text/plain": [
       "     quantity\n",
       "sum  240580.0"
      ]
     },
     "execution_count": 261,
     "metadata": {},
     "output_type": "execute_result"
    }
   ],
   "source": [
    "import pandas as pd\n",
    "\n",
    "data = pd.read_csv('/Volumes/Samsung_T5/Обучение/Питон/10/power.csv')\n",
    "\n",
    "x = data[ (data.country.isin(['Lithuania','Estonia','Latvia'])) & (data.category.isin([4,12,21])) & ((data.year > 2004) & (data.year < 2011))  & (data.quantity > 0)]\n",
    "#x.sum()['quantity']\n",
    "x.agg({'quantity': ['sum']})"
   ]
  },
  {
   "cell_type": "markdown",
   "metadata": {},
   "source": [
    "Задание 3\n",
    "Выберите страницу любого сайта с табличными данными. Импортируйте таблицы в pandas dataframe.\n",
    "Примеры страниц (необязательно брать именно эти):\n",
    "https://fortrader.org/quotes\n",
    "https://www.finanz.ru/valyuty/v-realnom-vremeni"
   ]
  },
  {
   "cell_type": "code",
   "execution_count": 148,
   "metadata": {},
   "outputs": [
    {
     "name": "stdout",
     "output_type": "stream",
     "text": [
      "                               Type    Last   Chg.  Chg.%  Time\n",
      "0  Нефть (BRENT) Курс нефти сегодня  62.590  0.720  1.160   NaN\n",
      "1   Нефть (WTI) Цены на нефть (WTI)  57.400  0.760  1.340   NaN\n",
      "2          Сахар котировки на сахар  12.630  0.000  0.000   NaN\n",
      "3                   Газ Цена на газ   2.782 -0.005 -0.179   NaN\n",
      "<class 'pandas.core.frame.DataFrame'>\n"
     ]
    }
   ],
   "source": [
    "x = pd.read_html('https://fortrader.org/quotes')[0]\n",
    "print(x)\n",
    "print(type(x))"
   ]
  },
  {
   "cell_type": "code",
   "execution_count": 147,
   "metadata": {},
   "outputs": [
    {
     "name": "stdout",
     "output_type": "stream",
     "text": [
      "       0                                                  1  \\\n",
      "0      №                                 Наименование работ   \n",
      "1    NaN                                 Демонтажные работы   \n",
      "2      1      Демонтаж перегородок из кирпича (1/2 кирпича)   \n",
      "3      2         Резка перегородок из кирпича (1/2 кирпича)   \n",
      "4      3  Устройство проема в кирпичной стене (1/2 кирпича)   \n",
      "5      4         Демонтаж перегородок из кирпича (1 кирпич)   \n",
      "6      5            Резка перегородок из кирпича (1 кирпич)   \n",
      "7      6     Устройство проема в кирпичной стене (1 кирпич)   \n",
      "8      7           Демонтаж перегородок из блоков до 100 мм   \n",
      "9      8        Резка перегородок из блоков толщ. до 100 мм   \n",
      "10     9  Устройство проема в блочной стене толщ. до 100 мм   \n",
      "11    10      Демонтаж перегородок из бетона, ж/б до 100 мм   \n",
      "12    11      Демонтаж перегородок из бетона, ж/б до 200 мм   \n",
      "13    12         Резка перегородок из бетона, ж/б до 100 мм   \n",
      "14    13         Резка перегородок из бетона, ж/б до 200 мм   \n",
      "15    14         Резка перегородок из бетона, ж/б до 300 мм   \n",
      "16    15     Устройство проема в бетоне,ж/б толщ. до 100 мм   \n",
      "17    16  Демонтаж сантехкабины из ацеита (стены и потолок)   \n",
      "18    17            Демонтаж поддона сантехкабины из бетона   \n",
      "19    18                     Демонтаж перегородок из ацеита   \n",
      "20    19                        Демонтаж перегородок из ГКЛ   \n",
      "21    20  Демонтаж перегородок из дерева, ДСП толщ. до 1...   \n",
      "22    21  Демонтаж подоконной части стены из ПГП, пенобе...   \n",
      "23    22         Демонтаж подоконной части стены из кирпича   \n",
      "24    23     Демонтаж подоконной части стены из бетона, ж/б   \n",
      "25    24  Устройство отверстий в бетонных стенах (ф до 2...   \n",
      "26    25  Устройство отверстий в бетонных стенах (ф до 5...   \n",
      "27    26  Устройство отверстий в бетонных стенах (ф до 1...   \n",
      "28    27                   Снятие полов из досок (с лагами)   \n",
      "29    28        Снятие полов из щитового паркета (с лагами)   \n",
      "..   ...                                                ...   \n",
      "464   14                                Установка отбойника   \n",
      "465   15                                Установка доводчика   \n",
      "466  NaN                       Устройство натяжных потолков   \n",
      "467    1  Устройство натяжных потолков (пленка ПВХ) (ком...   \n",
      "468    2  Устройство натяжных потолков (ткань ПВХ) (комп...   \n",
      "469    3                          Монтаж профиля( алюминий)   \n",
      "470    4               Монтаж маскировочной ленты (вставки)   \n",
      "471    5        Дополнительный угол (более 4-х в помещении)   \n",
      "472    6                           Обход трубы с окантовкой   \n",
      "473    7             Отверстие под люстру и установка крюка   \n",
      "474    8  Стойка и установка платформы для потолочной лю...   \n",
      "475    9         Установка люстры (2-5 рожков) (без сборки)   \n",
      "476   10  Установка точечного светильника (Д от 50 до 85...   \n",
      "477   11                             Монтаж электропроводки   \n",
      "478  NaN                                      Прочие работы   \n",
      "479  NaN  Вынос мусора (контейнер 8 м3) (на грузовом лифте)   \n",
      "480  NaN  Вынос мусора (контейнер 8 м3) (на негрузовом л...   \n",
      "481  NaN  Вынос мусора (в местный контейнер) (на грузово...   \n",
      "482  NaN  Вынос мусора (в местный контейнер) (на негрузо...   \n",
      "483  NaN  Вынос мусора (в местный контейнер) (без лифта)...   \n",
      "484  NaN   Рагрузка и подъем материалов (на грузовом лифте)   \n",
      "485  NaN  Рагрузка и подъем материалов (на негрузовом ли...   \n",
      "486  NaN  Рагрузка и подъем материалов (без лифта) за 1 ...   \n",
      "487  NaN  Рагрузка и подъем отделочных материалов (догов...   \n",
      "488  NaN          Устройство штрабы под трассы кондиционера   \n",
      "489  NaN             Заделка штрабы под трассы кондиционера   \n",
      "490  NaN                    Прозводство нестандартных работ   \n",
      "491  NaN                          Укрытие полов пленкой ПВХ   \n",
      "492  NaN                            Укрытие полов оргалитом   \n",
      "493  NaN    Перенос мебели (без разборки) (договорная цена)   \n",
      "\n",
      "                     2               3  \n",
      "0    Единица измерения  Расценка, руб.  \n",
      "1                  NaN             NaN  \n",
      "2                 кв.м             248  \n",
      "3                пог.м             416  \n",
      "4                 кв.м            1040  \n",
      "5                 кв.м             496  \n",
      "6                пог.м             864  \n",
      "7                 кв.м            2080  \n",
      "8                 кв.м             168  \n",
      "9                пог.м             352  \n",
      "10                кв.м             640  \n",
      "11                кв.м            1000  \n",
      "12                кв.м            2000  \n",
      "13               пог.м            1000  \n",
      "14               пог.м            2000  \n",
      "15               пог.м            3000  \n",
      "16                кв.м            2112  \n",
      "17                кв.м             240  \n",
      "18                кв.м            1000  \n",
      "19                кв.м             208  \n",
      "20                кв.м             208  \n",
      "21                кв.м            1744  \n",
      "22                кв.м             528  \n",
      "23                кв.м            1056  \n",
      "24                кв.м            3784  \n",
      "25                 шт.              80  \n",
      "26                 шт.             132  \n",
      "27                 шт.             440  \n",
      "28                кв.м             168  \n",
      "29                кв.м             224  \n",
      "..                 ...             ...  \n",
      "464                шт.             160  \n",
      "465                шт.             240  \n",
      "466                NaN             NaN  \n",
      "467               кв.м             560  \n",
      "468               кв.м             800  \n",
      "469              пог.м             160  \n",
      "470              пог.м              80  \n",
      "471                шт.             120  \n",
      "472                шт.             240  \n",
      "473                шт.             200  \n",
      "474                шт.             400  \n",
      "475                шт.             520  \n",
      "476                шт.             400  \n",
      "477              точка              80  \n",
      "478                NaN             NaN  \n",
      "479              конт.            3200  \n",
      "480              конт.            4000  \n",
      "481              мешок              64  \n",
      "482              мешок              80  \n",
      "483              мешок              64  \n",
      "484                тн.             960  \n",
      "485                тн.            1200  \n",
      "486                тн.             960  \n",
      "487             компл.               0  \n",
      "488              пог.м            1200  \n",
      "489              пог.м             160  \n",
      "490            чел/час             800  \n",
      "491               кв.м              24  \n",
      "492               кв.м              48  \n",
      "493             компл.               0  \n",
      "\n",
      "[494 rows x 4 columns]\n",
      "<class 'pandas.core.frame.DataFrame'>\n"
     ]
    }
   ],
   "source": [
    "x = pd.read_html('https://www.remontstroyka.ru/tseny/prays-list-na-raboty.php')[0]\n",
    "print(x)\n",
    "print(type(x))"
   ]
  },
  {
   "cell_type": "code",
   "execution_count": null,
   "metadata": {},
   "outputs": [],
   "source": []
  }
 ],
 "metadata": {
  "kernelspec": {
   "display_name": "Python 3",
   "language": "python",
   "name": "python3"
  },
  "language_info": {
   "codemirror_mode": {
    "name": "ipython",
    "version": 3
   },
   "file_extension": ".py",
   "mimetype": "text/x-python",
   "name": "python",
   "nbconvert_exporter": "python",
   "pygments_lexer": "ipython3",
   "version": "3.7.3"
  }
 },
 "nbformat": 4,
 "nbformat_minor": 2
}

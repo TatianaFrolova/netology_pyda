{
 "cells": [
  {
   "cell_type": "markdown",
   "metadata": {},
   "source": [
    "Дана строка\n",
    "string_01 = \"Mama, just killed a man, put a gun against his head, pulled my trigger, now he's dead. Mama, life had just begun, but now I've gone and thrown it all away. Mama, ooh (any way the wind blows), didn't mean to make you cry. If I'm not back again this time tomorrow carry on, carry on as if nothing really matters.\"\n",
    "1. Посчитайте, сколько в строке символов (исключая пробелы).\n",
    "2. Посчитайте, сколько в строке слов.\n",
    "3. Напишите функцию, которая будет принимать в качестве аргумента букву и\n",
    "выводить все слова из строки, заканчивающиеся на эту букву (например, “s”).\n",
    "4. Не обязательно: Напишите функцию, которая будет принимать в качестве\n",
    "аргумента букву и выводить все слова из строки, начинающиеся на эту букву (например, “m”).\n"
   ]
  },
  {
   "cell_type": "code",
   "execution_count": 45,
   "metadata": {},
   "outputs": [
    {
     "name": "stdout",
     "output_type": "stream",
     "text": [
      "1:  244\n",
      "2:  65\n",
      "Введите букву:  t\n"
     ]
    },
    {
     "data": {
      "text/plain": [
       "['thrown ', 'the ', 'to ', 'this ', 'time ', 'tomorrow ', 'thing ']"
      ]
     },
     "execution_count": 45,
     "metadata": {},
     "output_type": "execute_result"
    }
   ],
   "source": [
    "import re\n",
    "\n",
    "string_01 = \"Mama, just killed a man, put a gun against his head, pulled my trigger, now he's dead. Mama, life had just begun, but now I've gone and thrown it all away. Mama, ooh (any way the wind blows), didn't mean to make you cry. If I'm not back again this time tomorrow carry on, carry on as if nothing really matters.\"\n",
    "\n",
    "\n",
    "#1\n",
    "c1 = len(re.findall('[A-za-z,\\']', string_01))\n",
    "#print(re.findall('[A-za-z,\\']', string_01))\n",
    "print('1:  ' + str(c1))\n",
    "#2\n",
    "c2 = len(re.findall('[\\w]+', string_01)) \n",
    "print('2:  ' + str(c2))\n",
    "#3\n",
    "let = input(\"Введите букву:  \")\n",
    "re.findall('[\\w]+'+let+'\\s' , string_01)\n",
    "#4\n",
    "let = input(\"Введите букву:  \")\n",
    "re.findall(let+'[\\w]+\\s' , string_01)\n"
   ]
  },
  {
   "cell_type": "markdown",
   "metadata": {},
   "source": [
    "Задача 2\n",
    "Напишите код, который будет генерировать случайную последовательность из 6 цифр, одна из которых должна быть 3. Позиция цифры 3 должна\n",
    "определяться случайным образом. Результат должен быть строкой. Например: \"456309\" или \"330127\"."
   ]
  },
  {
   "cell_type": "code",
   "execution_count": 118,
   "metadata": {},
   "outputs": [
    {
     "name": "stdout",
     "output_type": "stream",
     "text": [
      "[5, 1, 3, 4, 8, 1]\n"
     ]
    }
   ],
   "source": [
    "import random\n",
    "\n",
    "mylist = [0,0,0,0,0,0]\n",
    "\n",
    "pos_of_3 = int(random.choice('012345'))\n",
    "mylist[pos_of_3] = 3\n",
    "\n",
    "for i in range(6):\n",
    "    if (i!= pos_of_3):\n",
    "        mylist[i] = int(random.choice('012456789'))\n",
    "        \n",
    "print(mylist)\n",
    "\n"
   ]
  },
  {
   "cell_type": "markdown",
   "metadata": {},
   "source": [
    "Задача 3\n",
    "Дан список\n",
    "list_01 = [1, 1, 2, 3, 5, 8, 13, 21, 34, 55, 89, 144, 233, 377, 610]\n",
    "Напишите алгоритм, который выводит сумму элементов списка, которые больше 10, но меньше 100."
   ]
  },
  {
   "cell_type": "code",
   "execution_count": 117,
   "metadata": {},
   "outputs": [
    {
     "name": "stdout",
     "output_type": "stream",
     "text": [
      "212\n"
     ]
    }
   ],
   "source": [
    "list_01 = [1, 1, 2, 3, 5, 8, 13, 21, 34, 55, 89, 144, 233, 377, 610]\n",
    "sum = 0\n",
    "for i in range(len(list_01)):\n",
    "    if(list_01[i]>10) and (list_01[i]<100):\n",
    "        sum = sum+list_01[i]      \n",
    "print(sum)"
   ]
  },
  {
   "cell_type": "markdown",
   "metadata": {},
   "source": [
    "Данные студентов представлены в виде списка списков:\n",
    "students = [\n",
    "[\"0001\", \"Антонов\", \"Антон\", \"Игоревич\", \"20.08.2009\",\n",
    "\"БСТ161\"],\n",
    "[\"1102\", \"Богов\", \"Артем\", \"Игоревич\", \"25.01.2010\",\n",
    "\"БСТ162\"],\n",
    "[\"0333\", \"Глаголева\", \"Анастасия\", \"Николаевна\", \"11.07.2009\", \"БСТ163\"],\n",
    "[\"4004\", \"Степанова\", \"Наталья\", \"Александровна\", \"13.02.2008\", \"БСТ161\"],\n",
    "[\"0045\", \"Боков\", \"Игорь\", \"Харитонович\", \"02.06.2009\", \"БСТ161\"],\n",
    "[\"0096\", \"Васильков\", \"Валентин\", \"Сергеевич\", \"20.03.2009\", \"БСТ164\"],\n",
    "[\"0607\", \"Сиропова\", \"Виолетта\", \"Эдуардовна\", \"28.05.2010\", \"БСТ162\"],\n",
    "[\"0309\", \"Шафутинский\", \"Михаил\", \"Михайлович\", \"03.09.2007\", \"БСТ163\"]\n",
    "]\n",
    "1. Преобразуйте данные таким образом, чтобы они были представлены в виде словаря, в котором ключами являются номера студентов, а значениями — список из других данных о студентах.\n",
    "2. Напишите функцию, которая принимает в качестве аргумента номер студента и новый номер группы и позволяет изменить номер группы этого студента на новый.\n",
    "3. Напишите функцию, которая принимает номер группы и выводит список (фамилии, имена, отчества) всех студентов этой группы.\n"
   ]
  },
  {
   "cell_type": "code",
   "execution_count": 111,
   "metadata": {},
   "outputs": [
    {
     "name": "stdout",
     "output_type": "stream",
     "text": [
      "Студент Сиропова переведен в группу БСТ163\n",
      "Студенты группы БСТ163:\n",
      "Глаголева Анастасия Николаевна \n",
      "Сиропова Виолетта Эдуардовна \n",
      "Шафутинский Михаил Михайлович \n"
     ]
    }
   ],
   "source": [
    "students = [\n",
    "[\"0001\", \"Антонов\", \"Антон\", \"Игоревич\", \"20.08.2009\",\n",
    "\"БСТ161\"],\n",
    "[\"1102\", \"Богов\", \"Артем\", \"Игоревич\", \"25.01.2010\",\n",
    "\"БСТ162\"],\n",
    "[\"0333\", \"Глаголева\", \"Анастасия\", \"Николаевна\", \"11.07.2009\", \"БСТ163\"],\n",
    "[\"4004\", \"Степанова\", \"Наталья\", \"Александровна\", \"13.02.2008\", \"БСТ161\"],\n",
    "[\"0045\", \"Боков\", \"Игорь\", \"Харитонович\", \"02.06.2009\", \"БСТ161\"],\n",
    "[\"0096\", \"Васильков\", \"Валентин\", \"Сергеевич\", \"20.03.2009\", \"БСТ164\"],\n",
    "[\"0607\", \"Сиропова\", \"Виолетта\", \"Эдуардовна\", \"28.05.2010\", \"БСТ162\"],\n",
    "[\"0309\", \"Шафутинский\", \"Михаил\", \"Михайлович\", \"03.09.2007\", \"БСТ163\"]\n",
    "]\n",
    "\n",
    "\n",
    "mydict = {}\n",
    "\n",
    "for i in range(len(students)):\n",
    "    \n",
    "    #curr_info = { 'Family': students[i][1], 'Name': students[i][2],'FName': students[i][3],'birth_date': students[i][4], 'gr_num': students[i][5]}\n",
    "    #mydict.setdefault(students[i][0], curr_info)\n",
    "    \n",
    "    curr_info = []\n",
    "    for k in range(len(students[i])-1):\n",
    "        curr_info.append(students[i][k+1])\n",
    "    mydict.setdefault(students[i][0], curr_info)\n",
    "\n",
    "\n",
    "\n",
    "def movetogroup(st_name, newgroup):\n",
    "    st = mydict.get(st_name) \n",
    "    if st == None:\n",
    "        print(\"Студент не найден\")\n",
    "    else:\n",
    "        st[4] = newgroup\n",
    "        print('Студент '+st[0]+' переведен в группу '+newgroup)\n",
    "        \n",
    "        \n",
    "def st_list(numgroup):\n",
    "    print('Студенты группы '+numgroup+':')\n",
    "    for x in mydict.values():\n",
    "        if (x[4] == numgroup):\n",
    "            print(x[0] + \" \" + x[1] + \" \" + x[2] + \" \")\n",
    "        \n",
    "\n",
    "    \n",
    "def main():    \n",
    "    movetogroup('0607', 'БСТ163')  \n",
    "    st_list('БСТ163')\n",
    "\n",
    "\n",
    "main()\n"
   ]
  },
  {
   "cell_type": "markdown",
   "metadata": {},
   "source": [
    "Задача 5\n",
    "Дана матрица:\n",
    "matrix = [ [0,1,2,4,8], [6,2,2,1,9], [3,3,3,3,3], [4,6,7,1,2], [5,7,3,4,0] ]\n",
    "1. Выведите результат сложения всех элементов матрицы.\n",
    "2. Напишите алгоритм вычисления максимума из сумм элементов каждого\n",
    "столбца."
   ]
  },
  {
   "cell_type": "code",
   "execution_count": 116,
   "metadata": {},
   "outputs": [
    {
     "name": "stdout",
     "output_type": "stream",
     "text": [
      "1: 89\n",
      "+++++++++++++++++++++++++++++++++++++++++++++++++++++++++++\n",
      "2: \n",
      "[15, 20, 15, 20, 19]\n",
      "20\n"
     ]
    }
   ],
   "source": [
    "matrix = [ [0,1,2,4,8], [6,2,2,1,9], [3,3,3,3,3], [4,6,7,1,2], [5,7,3,4,0] ]\n",
    "sum = 0\n",
    "for i in range(len(matrix)):\n",
    "    for j in range(len(matrix[i])):\n",
    "        sum = sum+matrix[i][j]\n",
    "        \n",
    "print('1: ' + str(sum))\n",
    "\n",
    "print('+++++++++++++++++++++++++++++++++++++++++++++++++++++++++++')\n",
    "\n",
    "mysumlist = []\n",
    "for i in range(len(matrix)):\n",
    "    sum = 0\n",
    "    for j in range(len(matrix[i])):\n",
    "        sum = sum+matrix[i][j]\n",
    "    mysumlist.append(sum)\n",
    "\n",
    "print('2: ' )\n",
    "print(mysumlist)\n",
    "print(max(mysumlist))"
   ]
  },
  {
   "cell_type": "code",
   "execution_count": null,
   "metadata": {},
   "outputs": [],
   "source": []
  }
 ],
 "metadata": {
  "kernelspec": {
   "display_name": "Python 3",
   "language": "python",
   "name": "python3"
  },
  "language_info": {
   "codemirror_mode": {
    "name": "ipython",
    "version": 3
   },
   "file_extension": ".py",
   "mimetype": "text/x-python",
   "name": "python",
   "nbconvert_exporter": "python",
   "pygments_lexer": "ipython3",
   "version": "3.7.3"
  }
 },
 "nbformat": 4,
 "nbformat_minor": 2
}

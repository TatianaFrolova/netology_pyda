{
 "cells": [
  {
   "cell_type": "markdown",
   "metadata": {},
   "source": [
    "# Домашнее задание 5"
   ]
  },
  {
   "cell_type": "markdown",
   "metadata": {},
   "source": [
    "1. Переведите содержимое файла purchase_log.txt в словарь purchases вида:\n",
    "    {'1840e0b9d4': 'Продукты', ...}\n",
    "    \n",
    "2. Для каждого user_id в файле visit_log.csv добавьте третий столбец с категорией покупки (если покупка была).\n",
    "\n",
    "3. Запишите в файл funnel.csv визиты из файла visit_log.csv, в которых были покупки с указанием категории.\n",
    "    Учтите условия на данные:\n",
    "    содержимое purchase_log.txt помещается в оперативную память компьютера\n",
    "    содержимое visit_log.csv - нет; используйте только построчную обработку этого файла"
   ]
  },
  {
   "cell_type": "code",
   "execution_count": 4,
   "metadata": {},
   "outputs": [],
   "source": [
    "#*********************************************************************************************************\n",
    "#****   1. Переведите содержимое файла purchase_log.txt в словарь purchases  *****************************\n",
    "#*********************************************************************************************************\n",
    "\n",
    "import json\n",
    "purchases = dict()\n",
    "i = 1;\n",
    "with open('/Volumes/Samsung_T5/Обучение/Питон/5/purchase_log.txt', 'r', encoding=\"utf-8\") as f:\n",
    "    for line in f:\n",
    "        curr = json.loads(next(f))\n",
    "        purchases.setdefault(curr['user_id'], curr['category'])\n",
    "        #print(purchases)\n",
    "        i = i+1\n",
    "        if i>100: break   \n",
    "\n",
    "            \n",
    "\n",
    "#*********************************************************************************************************\n",
    "#****   2. Для каждого user_id в файле visit_log.csv добавьте               ******************************\n",
    "#****      третий столбец с категорией покупки (если покупка была)          ******************************\n",
    "#*********************************************************************************************************\n",
    "#****   3. Запишите в файл funnel.csv визиты из файла visit_log.csv,       *******************************\n",
    "#****      в которых были покупки с указанием категории.                   *******************************\n",
    "#*********************************************************************************************************\n",
    "\n",
    "i = 1;\n",
    "with open('/Volumes/Samsung_T5/Обучение/Питон/5/visit_log_new.csv', 'a') as f_visit_log_new:\n",
    "    with open('/Volumes/Samsung_T5/Обучение/Питон/5/funnel.csv', 'a') as f_funnel:\n",
    "        with open('/Volumes/Samsung_T5/Обучение/Питон/5/visit_log.csv', 'r') as f:\n",
    "            for line in f:\n",
    "\n",
    "                my_str = f.readline().strip()\n",
    "                t = my_str.split(',')\n",
    "                \n",
    "                new_element = purchases.get(t[0])\n",
    "                # добавлю в строку через запятую новый элемент\n",
    "                n_line = my_str + ',' + str(new_element)\n",
    "                # запишу новую строку в новый файл\n",
    "                f_visit_log_new.write(n_line + '\\n')\n",
    "                \n",
    "                # если категория найдена, то записываю в файл funnel\n",
    "                if new_element != None:\n",
    "                    f_funnel.write(n_line + '\\n')\n",
    "                \n",
    "                i = i+1\n",
    "                if i>100: break\n",
    "\n"
   ]
  },
  {
   "cell_type": "code",
   "execution_count": null,
   "metadata": {},
   "outputs": [],
   "source": []
  }
 ],
 "metadata": {
  "kernelspec": {
   "display_name": "Python 3",
   "language": "python",
   "name": "python3"
  },
  "language_info": {
   "codemirror_mode": {
    "name": "ipython",
    "version": 3
   },
   "file_extension": ".py",
   "mimetype": "text/x-python",
   "name": "python",
   "nbconvert_exporter": "python",
   "pygments_lexer": "ipython3",
   "version": "3.7.3"
  }
 },
 "nbformat": 4,
 "nbformat_minor": 2
}

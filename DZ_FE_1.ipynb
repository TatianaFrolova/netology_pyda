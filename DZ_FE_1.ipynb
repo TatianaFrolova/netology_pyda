{
 "cells": [
  {
   "cell_type": "code",
   "execution_count": 24,
   "metadata": {},
   "outputs": [],
   "source": [
    "import numpy as np\n",
    "import pandas as pd\n",
    "\n",
    "from sklearn.linear_model import LinearRegression\n",
    "from sklearn.metrics import mean_absolute_error"
   ]
  },
  {
   "cell_type": "code",
   "execution_count": 84,
   "metadata": {},
   "outputs": [
    {
     "data": {
      "text/html": [
       "<div>\n",
       "<style scoped>\n",
       "    .dataframe tbody tr th:only-of-type {\n",
       "        vertical-align: middle;\n",
       "    }\n",
       "\n",
       "    .dataframe tbody tr th {\n",
       "        vertical-align: top;\n",
       "    }\n",
       "\n",
       "    .dataframe thead th {\n",
       "        text-align: right;\n",
       "    }\n",
       "</style>\n",
       "<table border=\"1\" class=\"dataframe\">\n",
       "  <thead>\n",
       "    <tr style=\"text-align: right;\">\n",
       "      <th></th>\n",
       "      <th>dist_to_metro</th>\n",
       "      <th>working_days</th>\n",
       "      <th>av_bill</th>\n",
       "      <th>earnings</th>\n",
       "      <th>emp</th>\n",
       "      <th>sp1</th>\n",
       "      <th>sp2</th>\n",
       "      <th>sp3</th>\n",
       "      <th>visitors</th>\n",
       "    </tr>\n",
       "  </thead>\n",
       "  <tbody>\n",
       "    <tr>\n",
       "      <th>0</th>\n",
       "      <td>1</td>\n",
       "      <td>2171</td>\n",
       "      <td>1684</td>\n",
       "      <td>216461.36</td>\n",
       "      <td>1</td>\n",
       "      <td>1</td>\n",
       "      <td>1</td>\n",
       "      <td>0</td>\n",
       "      <td>128.54</td>\n",
       "    </tr>\n",
       "    <tr>\n",
       "      <th>1</th>\n",
       "      <td>4</td>\n",
       "      <td>1413</td>\n",
       "      <td>1257</td>\n",
       "      <td>145321.77</td>\n",
       "      <td>3</td>\n",
       "      <td>1</td>\n",
       "      <td>1</td>\n",
       "      <td>1</td>\n",
       "      <td>115.61</td>\n",
       "    </tr>\n",
       "    <tr>\n",
       "      <th>2</th>\n",
       "      <td>2</td>\n",
       "      <td>680</td>\n",
       "      <td>1626</td>\n",
       "      <td>87771.48</td>\n",
       "      <td>3</td>\n",
       "      <td>1</td>\n",
       "      <td>1</td>\n",
       "      <td>0</td>\n",
       "      <td>53.98</td>\n",
       "    </tr>\n",
       "    <tr>\n",
       "      <th>3</th>\n",
       "      <td>2</td>\n",
       "      <td>2717</td>\n",
       "      <td>1724</td>\n",
       "      <td>242790.92</td>\n",
       "      <td>2</td>\n",
       "      <td>1</td>\n",
       "      <td>0</td>\n",
       "      <td>0</td>\n",
       "      <td>140.83</td>\n",
       "    </tr>\n",
       "    <tr>\n",
       "      <th>4</th>\n",
       "      <td>4</td>\n",
       "      <td>2608</td>\n",
       "      <td>1281</td>\n",
       "      <td>192611.16</td>\n",
       "      <td>1</td>\n",
       "      <td>1</td>\n",
       "      <td>1</td>\n",
       "      <td>0</td>\n",
       "      <td>150.36</td>\n",
       "    </tr>\n",
       "  </tbody>\n",
       "</table>\n",
       "</div>"
      ],
      "text/plain": [
       "   dist_to_metro  working_days  av_bill   earnings  emp  sp1  sp2  sp3  \\\n",
       "0              1          2171     1684  216461.36    1    1    1    0   \n",
       "1              4          1413     1257  145321.77    3    1    1    1   \n",
       "2              2           680     1626   87771.48    3    1    1    0   \n",
       "3              2          2717     1724  242790.92    2    1    0    0   \n",
       "4              4          2608     1281  192611.16    1    1    1    0   \n",
       "\n",
       "   visitors  \n",
       "0    128.54  \n",
       "1    115.61  \n",
       "2     53.98  \n",
       "3    140.83  \n",
       "4    150.36  "
      ]
     },
     "execution_count": 84,
     "metadata": {},
     "output_type": "execute_result"
    }
   ],
   "source": [
    "# Создаём сэмпл: лаботаторные отделения, в которых ведут прием врачи по специализациям sp1, sp2, sp3\n",
    "n_samples = 500\n",
    "\n",
    "# расстояние до метро\n",
    "dist_to_metro = np.random.choice(5, n_samples)\n",
    "# количество лицензий лабораторного отделения\n",
    "emp = np.random.randint(0, 3, n_samples) + 1\n",
    "# кабинеты врачей 1,2,3\n",
    "sp1 = np.random.randint(1, 2, n_samples)\n",
    "sp2 = np.random.randint(0, 2, n_samples)\n",
    "sp3 = np.random.randint(0, 2, n_samples)\n",
    "# сколько дней уже открыто отделение\n",
    "working_days = np.random.choice(3660, n_samples)\n",
    "# количество посетителей в день\n",
    "visitors = 5 *((sp1 + sp2 + sp3)*(sp1 + sp2 + sp3)) - 0.01 * dist_to_metro + 0.05 * working_days\n",
    "av_bill = 1300 + np.random.randint(-500, 500, n_samples)\n",
    "earnings = visitors * av_bill \n",
    "\n",
    "data = pd.DataFrame({'dist_to_metro': dist_to_metro, 'working_days': working_days, 'av_bill': av_bill, 'earnings': earnings, 'emp': emp, 'sp1': sp1, 'sp2': sp2,'sp3': sp3, 'visitors': visitors})\n",
    "data.head(5)\n",
    "\n"
   ]
  },
  {
   "cell_type": "code",
   "execution_count": null,
   "metadata": {},
   "outputs": [],
   "source": [
    "# строю модель по прогнозированию выручки earnings на всех переменных"
   ]
  },
  {
   "cell_type": "code",
   "execution_count": 86,
   "metadata": {
    "scrolled": false
   },
   "outputs": [
    {
     "name": "stdout",
     "output_type": "stream",
     "text": [
      "Weights: [-3490.80351926   -21.246487    1718.89417136 -1598.08080428\n",
      "     0.         -9661.51947207 -4080.20311545]\n",
      "Bias: 6496.3724932062905\n",
      "Error: 27819.21969946049\n"
     ]
    }
   ],
   "source": [
    "X = data[['dist_to_metro', 'working_days', 'visitors','emp', 'sp1', 'sp2', 'sp3']]\n",
    "y = data['earnings']\n",
    "reg = LinearRegression().fit(X, y)\n",
    "print('Weights: {}'.format(reg.coef_))\n",
    "print('Bias: {}'.format(reg.intercept_))\n",
    "\n",
    "pred_values = reg.predict(data[['dist_to_metro', 'working_days', 'visitors', 'emp', 'sp1', 'sp2', 'sp3']])\n",
    "print('Error: {}'.format(mean_absolute_error(pred_values, y)))"
   ]
  },
  {
   "cell_type": "code",
   "execution_count": null,
   "metadata": {},
   "outputs": [],
   "source": [
    "# убираю количество лицензий emp\n",
    "# и вижу, что ошибка стала не хуже"
   ]
  },
  {
   "cell_type": "code",
   "execution_count": 77,
   "metadata": {
    "scrolled": false
   },
   "outputs": [
    {
     "name": "stdout",
     "output_type": "stream",
     "text": [
      "Weights: [ 1.45572119e+02  2.17813402e+01  8.36420439e+02 -3.91082722e-11\n",
      "  6.03418360e+03  1.41033203e+04]\n",
      "Bias: 1311.842120246467\n",
      "Error: 28102.667162745438\n"
     ]
    }
   ],
   "source": [
    "X = data[['dist_to_metro', 'working_days', 'visitors', 'sp1', 'sp2', 'sp3']]\n",
    "y = data['earnings']\n",
    "reg = LinearRegression().fit(X, y)\n",
    "print('Weights: {}'.format(reg.coef_))\n",
    "print('Bias: {}'.format(reg.intercept_))\n",
    "\n",
    "pred_values = reg.predict(data[['dist_to_metro', 'working_days', 'visitors', 'sp1', 'sp2', 'sp3']])\n",
    "print('Error: {}'.format(mean_absolute_error(pred_values, y)))"
   ]
  },
  {
   "cell_type": "code",
   "execution_count": 78,
   "metadata": {},
   "outputs": [
    {
     "data": {
      "text/html": [
       "<div>\n",
       "<style scoped>\n",
       "    .dataframe tbody tr th:only-of-type {\n",
       "        vertical-align: middle;\n",
       "    }\n",
       "\n",
       "    .dataframe tbody tr th {\n",
       "        vertical-align: top;\n",
       "    }\n",
       "\n",
       "    .dataframe thead th {\n",
       "        text-align: right;\n",
       "    }\n",
       "</style>\n",
       "<table border=\"1\" class=\"dataframe\">\n",
       "  <thead>\n",
       "    <tr style=\"text-align: right;\">\n",
       "      <th></th>\n",
       "      <th>dist_to_metro</th>\n",
       "      <th>working_days</th>\n",
       "      <th>av_bill</th>\n",
       "      <th>earnings</th>\n",
       "      <th>emp</th>\n",
       "      <th>sp1</th>\n",
       "      <th>sp2</th>\n",
       "      <th>sp3</th>\n",
       "      <th>visitors</th>\n",
       "      <th>all_sp</th>\n",
       "    </tr>\n",
       "  </thead>\n",
       "  <tbody>\n",
       "    <tr>\n",
       "      <th>0</th>\n",
       "      <td>1</td>\n",
       "      <td>1410</td>\n",
       "      <td>1653</td>\n",
       "      <td>149579.97</td>\n",
       "      <td>3</td>\n",
       "      <td>1</td>\n",
       "      <td>0</td>\n",
       "      <td>1</td>\n",
       "      <td>90.49</td>\n",
       "      <td>2</td>\n",
       "    </tr>\n",
       "    <tr>\n",
       "      <th>1</th>\n",
       "      <td>0</td>\n",
       "      <td>2774</td>\n",
       "      <td>982</td>\n",
       "      <td>180393.40</td>\n",
       "      <td>3</td>\n",
       "      <td>1</td>\n",
       "      <td>1</td>\n",
       "      <td>1</td>\n",
       "      <td>183.70</td>\n",
       "      <td>3</td>\n",
       "    </tr>\n",
       "    <tr>\n",
       "      <th>2</th>\n",
       "      <td>3</td>\n",
       "      <td>1419</td>\n",
       "      <td>1797</td>\n",
       "      <td>163383.24</td>\n",
       "      <td>1</td>\n",
       "      <td>1</td>\n",
       "      <td>0</td>\n",
       "      <td>1</td>\n",
       "      <td>90.92</td>\n",
       "      <td>2</td>\n",
       "    </tr>\n",
       "    <tr>\n",
       "      <th>3</th>\n",
       "      <td>1</td>\n",
       "      <td>2120</td>\n",
       "      <td>1187</td>\n",
       "      <td>131745.13</td>\n",
       "      <td>2</td>\n",
       "      <td>1</td>\n",
       "      <td>0</td>\n",
       "      <td>0</td>\n",
       "      <td>110.99</td>\n",
       "      <td>1</td>\n",
       "    </tr>\n",
       "    <tr>\n",
       "      <th>4</th>\n",
       "      <td>3</td>\n",
       "      <td>3107</td>\n",
       "      <td>1366</td>\n",
       "      <td>273637.12</td>\n",
       "      <td>1</td>\n",
       "      <td>1</td>\n",
       "      <td>1</td>\n",
       "      <td>1</td>\n",
       "      <td>200.32</td>\n",
       "      <td>3</td>\n",
       "    </tr>\n",
       "  </tbody>\n",
       "</table>\n",
       "</div>"
      ],
      "text/plain": [
       "   dist_to_metro  working_days  av_bill   earnings  emp  sp1  sp2  sp3  \\\n",
       "0              1          1410     1653  149579.97    3    1    0    1   \n",
       "1              0          2774      982  180393.40    3    1    1    1   \n",
       "2              3          1419     1797  163383.24    1    1    0    1   \n",
       "3              1          2120     1187  131745.13    2    1    0    0   \n",
       "4              3          3107     1366  273637.12    1    1    1    1   \n",
       "\n",
       "   visitors  all_sp  \n",
       "0     90.49       2  \n",
       "1    183.70       3  \n",
       "2     90.92       2  \n",
       "3    110.99       1  \n",
       "4    200.32       3  "
      ]
     },
     "execution_count": 78,
     "metadata": {},
     "output_type": "execute_result"
    }
   ],
   "source": [
    "data['all_sp'] = data['sp1'] + data['sp2'] + data['sp3']\n",
    "data.head()"
   ]
  },
  {
   "cell_type": "code",
   "execution_count": 79,
   "metadata": {},
   "outputs": [
    {
     "name": "stdout",
     "output_type": "stream",
     "text": [
      "Weights: [  132.43432006    22.02020464   833.43517617 10136.98769307]\n",
      "Bias: -8950.778118284914\n",
      "Error: 28082.96172369431\n"
     ]
    }
   ],
   "source": [
    "X = data[['dist_to_metro', 'working_days', 'visitors', 'all_sp']]\n",
    "y = data['earnings']\n",
    "reg = LinearRegression().fit(X, y)\n",
    "print('Weights: {}'.format(reg.coef_))\n",
    "print('Bias: {}'.format(reg.intercept_))\n",
    "\n",
    "pred_values = reg.predict(data[['dist_to_metro', 'working_days', 'visitors', 'all_sp']])\n",
    "print('Error: {}'.format(mean_absolute_error(pred_values, y)))"
   ]
  },
  {
   "cell_type": "code",
   "execution_count": 81,
   "metadata": {},
   "outputs": [
    {
     "name": "stdout",
     "output_type": "stream",
     "text": [
      "Weights: [1272.88065175 1267.00125929]\n",
      "Bias: -782.381433265371\n",
      "Error: 28121.51298530019\n"
     ]
    }
   ],
   "source": [
    "X = data[['visitors', 'all_sp']]\n",
    "y = data['earnings']\n",
    "reg = LinearRegression().fit(X, y)\n",
    "print('Weights: {}'.format(reg.coef_))\n",
    "print('Bias: {}'.format(reg.intercept_))\n",
    "\n",
    "pred_values = reg.predict(data[['visitors', 'all_sp']])\n",
    "print('Error: {}'.format(mean_absolute_error(pred_values, y)))"
   ]
  },
  {
   "cell_type": "code",
   "execution_count": 15,
   "metadata": {},
   "outputs": [
    {
     "name": "stdout",
     "output_type": "stream",
     "text": [
      "Weights: [3.77436839e+00 2.13162821e-14 1.73420194e+01 2.01275966e+01]\n",
      "Bias: 88.91042779063474\n",
      "Error: 45.72665684225884\n"
     ]
    }
   ],
   "source": [
    "from sklearn.metrics import mean_absolute_error\n",
    "\n",
    "X = data[['dist_to_metro', 'sp1', 'sp2', 'sp3']]\n",
    "y = data['visitors']\n",
    "reg = LinearRegression().fit(X, y)\n",
    "print('Weights: {}'.format(reg.coef_))\n",
    "print('Bias: {}'.format(reg.intercept_))\n",
    "\n",
    "pred_values = reg.predict(data[['dist_to_metro', 'sp1', 'sp2', 'sp3']])\n",
    "print('Error: {}'.format(mean_absolute_error(pred_values, y)))"
   ]
  },
  {
   "cell_type": "code",
   "execution_count": 128,
   "metadata": {},
   "outputs": [
    {
     "data": {
      "text/html": [
       "<div>\n",
       "<style scoped>\n",
       "    .dataframe tbody tr th:only-of-type {\n",
       "        vertical-align: middle;\n",
       "    }\n",
       "\n",
       "    .dataframe tbody tr th {\n",
       "        vertical-align: top;\n",
       "    }\n",
       "\n",
       "    .dataframe thead th {\n",
       "        text-align: right;\n",
       "    }\n",
       "</style>\n",
       "<table border=\"1\" class=\"dataframe\">\n",
       "  <thead>\n",
       "    <tr style=\"text-align: right;\">\n",
       "      <th></th>\n",
       "      <th>dist_to_metro</th>\n",
       "      <th>emp</th>\n",
       "      <th>sp1</th>\n",
       "      <th>sp2</th>\n",
       "      <th>sp3</th>\n",
       "      <th>visitors</th>\n",
       "      <th>num_sp</th>\n",
       "    </tr>\n",
       "  </thead>\n",
       "  <tbody>\n",
       "    <tr>\n",
       "      <th>0</th>\n",
       "      <td>0</td>\n",
       "      <td>1</td>\n",
       "      <td>1</td>\n",
       "      <td>0</td>\n",
       "      <td>1</td>\n",
       "      <td>120000</td>\n",
       "      <td>2</td>\n",
       "    </tr>\n",
       "    <tr>\n",
       "      <th>1</th>\n",
       "      <td>1</td>\n",
       "      <td>3</td>\n",
       "      <td>1</td>\n",
       "      <td>0</td>\n",
       "      <td>0</td>\n",
       "      <td>29000</td>\n",
       "      <td>1</td>\n",
       "    </tr>\n",
       "    <tr>\n",
       "      <th>2</th>\n",
       "      <td>3</td>\n",
       "      <td>3</td>\n",
       "      <td>1</td>\n",
       "      <td>1</td>\n",
       "      <td>0</td>\n",
       "      <td>117000</td>\n",
       "      <td>2</td>\n",
       "    </tr>\n",
       "    <tr>\n",
       "      <th>3</th>\n",
       "      <td>2</td>\n",
       "      <td>2</td>\n",
       "      <td>1</td>\n",
       "      <td>1</td>\n",
       "      <td>1</td>\n",
       "      <td>268000</td>\n",
       "      <td>3</td>\n",
       "    </tr>\n",
       "    <tr>\n",
       "      <th>4</th>\n",
       "      <td>0</td>\n",
       "      <td>1</td>\n",
       "      <td>1</td>\n",
       "      <td>1</td>\n",
       "      <td>1</td>\n",
       "      <td>270000</td>\n",
       "      <td>3</td>\n",
       "    </tr>\n",
       "  </tbody>\n",
       "</table>\n",
       "</div>"
      ],
      "text/plain": [
       "   dist_to_metro  emp  sp1  sp2  sp3  visitors  num_sp\n",
       "0              0    1    1    0    1    120000       2\n",
       "1              1    3    1    0    0     29000       1\n",
       "2              3    3    1    1    0    117000       2\n",
       "3              2    2    1    1    1    268000       3\n",
       "4              0    1    1    1    1    270000       3"
      ]
     },
     "execution_count": 128,
     "metadata": {},
     "output_type": "execute_result"
    }
   ],
   "source": [
    "# Создаем новый признак \"Количество специалистов в отделении\"\n",
    "data['num_sp'] = data['sp1'] + data['sp2'] + data['sp3']\n",
    "data.head(5)"
   ]
  },
  {
   "cell_type": "code",
   "execution_count": 129,
   "metadata": {},
   "outputs": [
    {
     "name": "stdout",
     "output_type": "stream",
     "text": [
      "Weights: [ -1145.49746079 119767.98367946]\n",
      "Bias: -103912.14512607997\n",
      "Error: 14986.955069828115\n"
     ]
    }
   ],
   "source": [
    "X = data[['dist_to_metro', 'num_sp']]\n",
    "y = data['visitors']\n",
    "\n",
    "reg = LinearRegression().fit(X, y)\n",
    "print('Weights: {}'.format(reg.coef_))\n",
    "print('Bias: {}'.format(reg.intercept_))\n",
    "\n",
    "pred_values = reg.predict(data[['dist_to_metro', 'num_sp']])\n",
    "print('Error: {}'.format(mean_absolute_error(pred_values, y)))"
   ]
  },
  {
   "cell_type": "code",
   "execution_count": null,
   "metadata": {},
   "outputs": [],
   "source": []
  }
 ],
 "metadata": {
  "kernelspec": {
   "display_name": "Python 3",
   "language": "python",
   "name": "python3"
  },
  "language_info": {
   "codemirror_mode": {
    "name": "ipython",
    "version": 3
   },
   "file_extension": ".py",
   "mimetype": "text/x-python",
   "name": "python",
   "nbconvert_exporter": "python",
   "pygments_lexer": "ipython3",
   "version": "3.7.3"
  }
 },
 "nbformat": 4,
 "nbformat_minor": 2
}

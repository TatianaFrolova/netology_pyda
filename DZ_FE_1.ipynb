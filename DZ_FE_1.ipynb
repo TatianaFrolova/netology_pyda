{
 "cells": [
  {
   "cell_type": "code",
   "execution_count": 1,
   "metadata": {},
   "outputs": [],
   "source": [
    "import numpy as np\n",
    "import pandas as pd\n",
    "\n",
    "from sklearn.linear_model import LinearRegression\n",
    "from sklearn.metrics import mean_absolute_error"
   ]
  },
  {
   "cell_type": "code",
   "execution_count": 11,
   "metadata": {},
   "outputs": [
    {
     "data": {
      "text/html": [
       "<div>\n",
       "<style scoped>\n",
       "    .dataframe tbody tr th:only-of-type {\n",
       "        vertical-align: middle;\n",
       "    }\n",
       "\n",
       "    .dataframe tbody tr th {\n",
       "        vertical-align: top;\n",
       "    }\n",
       "\n",
       "    .dataframe thead th {\n",
       "        text-align: right;\n",
       "    }\n",
       "</style>\n",
       "<table border=\"1\" class=\"dataframe\">\n",
       "  <thead>\n",
       "    <tr style=\"text-align: right;\">\n",
       "      <th></th>\n",
       "      <th>dist_to_metro</th>\n",
       "      <th>working_days</th>\n",
       "      <th>av_bill</th>\n",
       "      <th>earnings</th>\n",
       "      <th>emp</th>\n",
       "      <th>sp1</th>\n",
       "      <th>sp2</th>\n",
       "      <th>sp3</th>\n",
       "      <th>visitors</th>\n",
       "    </tr>\n",
       "  </thead>\n",
       "  <tbody>\n",
       "    <tr>\n",
       "      <th>0</th>\n",
       "      <td>2</td>\n",
       "      <td>1115</td>\n",
       "      <td>1365</td>\n",
       "      <td>82896.45</td>\n",
       "      <td>9</td>\n",
       "      <td>1</td>\n",
       "      <td>0</td>\n",
       "      <td>0</td>\n",
       "      <td>60.73</td>\n",
       "    </tr>\n",
       "    <tr>\n",
       "      <th>1</th>\n",
       "      <td>1</td>\n",
       "      <td>3514</td>\n",
       "      <td>1141</td>\n",
       "      <td>223282.29</td>\n",
       "      <td>10</td>\n",
       "      <td>1</td>\n",
       "      <td>0</td>\n",
       "      <td>1</td>\n",
       "      <td>195.69</td>\n",
       "    </tr>\n",
       "    <tr>\n",
       "      <th>2</th>\n",
       "      <td>1</td>\n",
       "      <td>456</td>\n",
       "      <td>1124</td>\n",
       "      <td>76195.96</td>\n",
       "      <td>1</td>\n",
       "      <td>1</td>\n",
       "      <td>1</td>\n",
       "      <td>1</td>\n",
       "      <td>67.79</td>\n",
       "    </tr>\n",
       "    <tr>\n",
       "      <th>3</th>\n",
       "      <td>3</td>\n",
       "      <td>1849</td>\n",
       "      <td>1604</td>\n",
       "      <td>180321.68</td>\n",
       "      <td>10</td>\n",
       "      <td>1</td>\n",
       "      <td>1</td>\n",
       "      <td>0</td>\n",
       "      <td>112.42</td>\n",
       "    </tr>\n",
       "    <tr>\n",
       "      <th>4</th>\n",
       "      <td>0</td>\n",
       "      <td>631</td>\n",
       "      <td>1411</td>\n",
       "      <td>72737.05</td>\n",
       "      <td>6</td>\n",
       "      <td>1</td>\n",
       "      <td>0</td>\n",
       "      <td>1</td>\n",
       "      <td>51.55</td>\n",
       "    </tr>\n",
       "  </tbody>\n",
       "</table>\n",
       "</div>"
      ],
      "text/plain": [
       "   dist_to_metro  working_days  av_bill   earnings  emp  sp1  sp2  sp3  \\\n",
       "0              2          1115     1365   82896.45    9    1    0    0   \n",
       "1              1          3514     1141  223282.29   10    1    0    1   \n",
       "2              1           456     1124   76195.96    1    1    1    1   \n",
       "3              3          1849     1604  180321.68   10    1    1    0   \n",
       "4              0           631     1411   72737.05    6    1    0    1   \n",
       "\n",
       "   visitors  \n",
       "0     60.73  \n",
       "1    195.69  \n",
       "2     67.79  \n",
       "3    112.42  \n",
       "4     51.55  "
      ]
     },
     "execution_count": 11,
     "metadata": {},
     "output_type": "execute_result"
    }
   ],
   "source": [
    "# Создаём сэмпл: лаботаторные отделения, в которых ведут прием врачи по специализациям sp1, sp2, sp3\n",
    "n_samples = 500\n",
    "\n",
    "# расстояние от лабораторного отделения до ближайшего метро\n",
    "dist_to_metro = np.random.choice(5, n_samples)\n",
    "# количество лицензий лабораторного отделения\n",
    "emp = np.random.randint(0, 10, n_samples) + 1\n",
    "# кабинеты врачей 1,2,3\n",
    "sp1 = np.random.randint(1, 2, n_samples)\n",
    "sp2 = np.random.randint(0, 2, n_samples)\n",
    "sp3 = np.random.randint(0, 2, n_samples)\n",
    "# сколько дней уже открыто отделение\n",
    "working_days = np.random.choice(3660, n_samples)\n",
    "# среднее количество посетителей в день\n",
    "visitors = 5 *((sp1 + sp2 + sp3)*(sp1 + sp2 + sp3)) - 0.01 * dist_to_metro + 0.05 * working_days\n",
    "av_bill = 1300 + np.random.randint(-500, 500, n_samples)\n",
    "# средняя дневная выручка\n",
    "earnings = visitors * av_bill \n",
    "\n",
    "data = pd.DataFrame({'dist_to_metro': dist_to_metro, 'working_days': working_days, 'av_bill': av_bill, 'earnings': earnings, 'emp': emp, 'sp1': sp1, 'sp2': sp2,'sp3': sp3, 'visitors': visitors})\n",
    "data.head(5)\n"
   ]
  },
  {
   "cell_type": "markdown",
   "metadata": {},
   "source": [
    "строю линейную регрессию для прогнозирования выручки earnings "
   ]
  },
  {
   "cell_type": "code",
   "execution_count": 12,
   "metadata": {},
   "outputs": [
    {
     "name": "stdout",
     "output_type": "stream",
     "text": [
      "Weights: [ 6.77686197e+02  6.90655423e+01 -9.34440249e+01  3.78995628e+02\n",
      "  4.72937245e-11  2.04105526e+04  2.73034286e+04]\n",
      "Bias: 4325.809566980577\n",
      "Error: 28443.18929942751\n"
     ]
    }
   ],
   "source": [
    "X = data[['dist_to_metro', 'working_days', 'visitors','emp', 'sp1', 'sp2', 'sp3']]\n",
    "y = data['earnings']\n",
    "reg = LinearRegression().fit(X, y)\n",
    "print('Weights: {}'.format(reg.coef_))\n",
    "print('Bias: {}'.format(reg.intercept_))\n",
    "\n",
    "pred_values = reg.predict(data[['dist_to_metro', 'working_days', 'visitors', 'emp', 'sp1', 'sp2', 'sp3']])\n",
    "print('Error: {}'.format(mean_absolute_error(pred_values, y)))"
   ]
  },
  {
   "cell_type": "markdown",
   "metadata": {},
   "source": [
    "Ошибка 28443 рубля, что вероятно составляет порядка 15% от суммы выручки.\n",
    "Наш генеральный директор уволил бы за такой прогноз))"
   ]
  },
  {
   "cell_type": "markdown",
   "metadata": {},
   "source": [
    "Создам новый признак \"Количество специалистов в отделении\".\n",
    "Возможно каждый врач в отдельности не влияет на выручку и важно только количество кабинетов, открытых в лабораторном отделении\n"
   ]
  },
  {
   "cell_type": "code",
   "execution_count": 13,
   "metadata": {},
   "outputs": [
    {
     "data": {
      "text/html": [
       "<div>\n",
       "<style scoped>\n",
       "    .dataframe tbody tr th:only-of-type {\n",
       "        vertical-align: middle;\n",
       "    }\n",
       "\n",
       "    .dataframe tbody tr th {\n",
       "        vertical-align: top;\n",
       "    }\n",
       "\n",
       "    .dataframe thead th {\n",
       "        text-align: right;\n",
       "    }\n",
       "</style>\n",
       "<table border=\"1\" class=\"dataframe\">\n",
       "  <thead>\n",
       "    <tr style=\"text-align: right;\">\n",
       "      <th></th>\n",
       "      <th>dist_to_metro</th>\n",
       "      <th>working_days</th>\n",
       "      <th>av_bill</th>\n",
       "      <th>earnings</th>\n",
       "      <th>emp</th>\n",
       "      <th>sp1</th>\n",
       "      <th>sp2</th>\n",
       "      <th>sp3</th>\n",
       "      <th>visitors</th>\n",
       "      <th>all_sp</th>\n",
       "    </tr>\n",
       "  </thead>\n",
       "  <tbody>\n",
       "    <tr>\n",
       "      <th>0</th>\n",
       "      <td>2</td>\n",
       "      <td>1115</td>\n",
       "      <td>1365</td>\n",
       "      <td>82896.45</td>\n",
       "      <td>9</td>\n",
       "      <td>1</td>\n",
       "      <td>0</td>\n",
       "      <td>0</td>\n",
       "      <td>60.73</td>\n",
       "      <td>1</td>\n",
       "    </tr>\n",
       "    <tr>\n",
       "      <th>1</th>\n",
       "      <td>1</td>\n",
       "      <td>3514</td>\n",
       "      <td>1141</td>\n",
       "      <td>223282.29</td>\n",
       "      <td>10</td>\n",
       "      <td>1</td>\n",
       "      <td>0</td>\n",
       "      <td>1</td>\n",
       "      <td>195.69</td>\n",
       "      <td>2</td>\n",
       "    </tr>\n",
       "    <tr>\n",
       "      <th>2</th>\n",
       "      <td>1</td>\n",
       "      <td>456</td>\n",
       "      <td>1124</td>\n",
       "      <td>76195.96</td>\n",
       "      <td>1</td>\n",
       "      <td>1</td>\n",
       "      <td>1</td>\n",
       "      <td>1</td>\n",
       "      <td>67.79</td>\n",
       "      <td>3</td>\n",
       "    </tr>\n",
       "    <tr>\n",
       "      <th>3</th>\n",
       "      <td>3</td>\n",
       "      <td>1849</td>\n",
       "      <td>1604</td>\n",
       "      <td>180321.68</td>\n",
       "      <td>10</td>\n",
       "      <td>1</td>\n",
       "      <td>1</td>\n",
       "      <td>0</td>\n",
       "      <td>112.42</td>\n",
       "      <td>2</td>\n",
       "    </tr>\n",
       "    <tr>\n",
       "      <th>4</th>\n",
       "      <td>0</td>\n",
       "      <td>631</td>\n",
       "      <td>1411</td>\n",
       "      <td>72737.05</td>\n",
       "      <td>6</td>\n",
       "      <td>1</td>\n",
       "      <td>0</td>\n",
       "      <td>1</td>\n",
       "      <td>51.55</td>\n",
       "      <td>2</td>\n",
       "    </tr>\n",
       "  </tbody>\n",
       "</table>\n",
       "</div>"
      ],
      "text/plain": [
       "   dist_to_metro  working_days  av_bill   earnings  emp  sp1  sp2  sp3  \\\n",
       "0              2          1115     1365   82896.45    9    1    0    0   \n",
       "1              1          3514     1141  223282.29   10    1    0    1   \n",
       "2              1           456     1124   76195.96    1    1    1    1   \n",
       "3              3          1849     1604  180321.68   10    1    1    0   \n",
       "4              0           631     1411   72737.05    6    1    0    1   \n",
       "\n",
       "   visitors  all_sp  \n",
       "0     60.73       1  \n",
       "1    195.69       2  \n",
       "2     67.79       3  \n",
       "3    112.42       2  \n",
       "4     51.55       2  "
      ]
     },
     "execution_count": 13,
     "metadata": {},
     "output_type": "execute_result"
    }
   ],
   "source": [
    "data['all_sp'] = data['sp1'] + data['sp2'] + data['sp3']\n",
    "data.head()"
   ]
  },
  {
   "cell_type": "code",
   "execution_count": 14,
   "metadata": {},
   "outputs": [
    {
     "name": "stdout",
     "output_type": "stream",
     "text": [
      "Weights: [  613.72309078    66.22091345   413.74253994   -36.01320008\n",
      " 22709.36065294]\n",
      "Bias: -18781.11346349228\n",
      "Error: 28469.900635583752\n"
     ]
    }
   ],
   "source": [
    "X = data[['dist_to_metro', 'working_days','emp', 'visitors', 'all_sp']]\n",
    "y = data['earnings']\n",
    "reg = LinearRegression().fit(X, y)\n",
    "print('Weights: {}'.format(reg.coef_))\n",
    "print('Bias: {}'.format(reg.intercept_))\n",
    "\n",
    "pred_values = reg.predict(data[['dist_to_metro', 'working_days','emp', 'visitors', 'all_sp']])\n",
    "print('Error: {}'.format(mean_absolute_error(pred_values, y)))"
   ]
  },
  {
   "cell_type": "markdown",
   "metadata": {},
   "source": [
    "ошибка незначительно, но стала больше"
   ]
  },
  {
   "cell_type": "markdown",
   "metadata": {},
   "source": [
    "считаю, что количество лицензий отделения emp не должно влиять на выручку, убираю эту переменную\n"
   ]
  },
  {
   "cell_type": "code",
   "execution_count": 15,
   "metadata": {},
   "outputs": [
    {
     "name": "stdout",
     "output_type": "stream",
     "text": [
      "Weights: [ 6.95046630e+02  6.99877965e+01 -1.13253135e+02  1.78260962e-10\n",
      "  2.07497711e+04  2.77693141e+04]\n",
      "Bias: 6580.271376037388\n",
      "Error: 28436.710019714163\n"
     ]
    }
   ],
   "source": [
    "X = data[['dist_to_metro', 'working_days', 'visitors', 'sp1', 'sp2', 'sp3']]\n",
    "y = data['earnings']\n",
    "reg = LinearRegression().fit(X, y)\n",
    "print('Weights: {}'.format(reg.coef_))\n",
    "print('Bias: {}'.format(reg.intercept_))\n",
    "\n",
    "pred_values = reg.predict(data[['dist_to_metro', 'working_days', 'visitors', 'sp1', 'sp2', 'sp3']])\n",
    "print('Error: {}'.format(mean_absolute_error(pred_values, y)))"
   ]
  },
  {
   "cell_type": "markdown",
   "metadata": {},
   "source": [
    "ошибка стала незначительно больше"
   ]
  },
  {
   "cell_type": "markdown",
   "metadata": {},
   "source": [
    "хочу посмотреть модель без учета \"расстояния до метро\" и \"дней работы отделения\""
   ]
  },
  {
   "cell_type": "code",
   "execution_count": 16,
   "metadata": {},
   "outputs": [
    {
     "name": "stdout",
     "output_type": "stream",
     "text": [
      "Weights: [ 1282.6925243      0.         -6690.34867834  -346.54628794]\n",
      "Bias: 4651.1699571695935\n",
      "Error: 28651.555430485078\n"
     ]
    }
   ],
   "source": [
    "X = data[['visitors', 'sp1', 'sp2', 'sp3']]\n",
    "y = data['earnings']\n",
    "reg = LinearRegression().fit(X, y)\n",
    "print('Weights: {}'.format(reg.coef_))\n",
    "print('Bias: {}'.format(reg.intercept_))\n",
    "\n",
    "pred_values = reg.predict(data[['visitors', 'sp1', 'sp2', 'sp3']])\n",
    "print('Error: {}'.format(mean_absolute_error(pred_values, y)))"
   ]
  },
  {
   "cell_type": "markdown",
   "metadata": {},
   "source": [
    "ошибка увеличилась на 200 руб. \n",
    "убираю все переменные кроме \"количество посетителей\""
   ]
  },
  {
   "cell_type": "code",
   "execution_count": 17,
   "metadata": {},
   "outputs": [
    {
     "name": "stdout",
     "output_type": "stream",
     "text": [
      "Weights: [1271.98830713]\n",
      "Bias: 2272.930584553367\n",
      "Error: 28634.548391652857\n"
     ]
    }
   ],
   "source": [
    "X = data[['visitors']]\n",
    "y = data['earnings']\n",
    "reg = LinearRegression().fit(X, y)\n",
    "print('Weights: {}'.format(reg.coef_))\n",
    "print('Bias: {}'.format(reg.intercept_))\n",
    "\n",
    "pred_values = reg.predict(data[['visitors']])\n",
    "print('Error: {}'.format(mean_absolute_error(pred_values, y)))"
   ]
  },
  {
   "cell_type": "markdown",
   "metadata": {},
   "source": [
    "результат стал хуже\n",
    "\n",
    "Самая удачная модель получается, если убрать переменную \"количество лицензий\" и оставить все остальные переменные.\n",
    "Но в целом можно строить прогнозы только по количеству посетителей, так как разница между ошибкой в этой модели и \n",
    "ошибкой в самой удачной модели небольшая."
   ]
  },
  {
   "cell_type": "code",
   "execution_count": null,
   "metadata": {},
   "outputs": [],
   "source": []
  }
 ],
 "metadata": {
  "kernelspec": {
   "display_name": "Python 3",
   "language": "python",
   "name": "python3"
  },
  "language_info": {
   "codemirror_mode": {
    "name": "ipython",
    "version": 3
   },
   "file_extension": ".py",
   "mimetype": "text/x-python",
   "name": "python",
   "nbconvert_exporter": "python",
   "pygments_lexer": "ipython3",
   "version": "3.7.3"
  }
 },
 "nbformat": 4,
 "nbformat_minor": 2
}
